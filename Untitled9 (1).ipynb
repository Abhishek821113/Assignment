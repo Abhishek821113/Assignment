{
 "cells": [
  {
   "cell_type": "markdown",
   "id": "abec2402-f5d7-4ee2-8ead-d6ce0669b976",
   "metadata": {},
   "source": [
    "#1 What is an API? Give an example, where an API is used in real life."
   ]
  },
  {
   "cell_type": "markdown",
   "id": "898b3f3c-d42c-44f3-a2db-6e182a21e7a3",
   "metadata": {},
   "source": [
    "API stands for Application Programming Interface. \n",
    "An API is a set of protocols, routines, and tools for building software applications.\n",
    "Here is an example \n",
    "signing into pwskills data scince cousre one have sign in through either phone number or gmailid ,those who have purched it .\n",
    "once you enter your  details its the api that macthes detail  web data . \n",
    "on find the same macth it allows the user to accsess the pwskill data science course.\n",
    "In this example, \n",
    "the travel booking website uses the API of the airline reservation system to communicate and exchange data with it. This allows the website to provide real-time flight availability and pricing information to its users without having to store and manage the data itself.\n"
   ]
  },
  {
   "cell_type": "code",
   "execution_count": null,
   "id": "06d2f9bf-8bf3-402a-87ec-4077fa6df7e3",
   "metadata": {},
   "outputs": [],
   "source": [
    "#2 Give advantages and disadvantages of using API."
   ]
  },
  {
   "cell_type": "markdown",
   "id": "60a4218e-1fcf-4e30-9773-1e1af5086341",
   "metadata": {},
   "source": [
    "Advantages of using API\n",
    "\n",
    "1.Improved efficiency : APIs allow applications to communicate and share data\n",
    "which can lead to improved efficiency and faster development times.\n",
    "2.Increased functionality: APIs provide access to third-party services.\n",
    "3.Scalability: APIs can be used to scale applications by distributing workload across multiple servers\n",
    "and service.\n",
    "4.Standardization: APIs provide a standard way for applications to communicate with each other,\n",
    "and making it easier for developers to integrate different systems.\n",
    "5.Ecosystem: APIs can create an ecosystem of developers and partners who can build and enhance applications.\n",
    "\n",
    "Disadvantages of using API:\n",
    "\n",
    "1.Complexity: APIs can be complex to implement, \n",
    "and developers may require a high level of expertise to use them effectively .\n",
    "2.Security Risks: APIs can create security risks, \n",
    "such as unauthorized access or data breaches,\n",
    "if they are not designed and implemented properly.\n",
    "3.Maintenance: APIs require maintenance and updates,\n",
    "which can be time-consuming and costly.\n",
    "4.Dependency: Applications may become dependent on third-party APIs,\n",
    "which can create a vendor lock-in situation and limit flexibility.\n",
    "5.Compatibility: APIs may not be compatible with all systems, \n",
    "which can limit the reach of applications and create compatibility issuse.\n"
   ]
  },
  {
   "cell_type": "code",
   "execution_count": 2,
   "id": "8c78a209-28ec-4022-adc6-f01ace18be46",
   "metadata": {},
   "outputs": [],
   "source": [
    "#3What is a Web API? Differentiate between API and Web API.\n"
   ]
  },
  {
   "cell_type": "code",
   "execution_count": null,
   "id": "7d01ab69-98ae-40bd-b646-0ef3754b7b69",
   "metadata": {},
   "outputs": [],
   "source": [
    "A Web API, also known as a Web Service and  \n",
    "to be used over the internet via HTTP protocols.\n",
    "\n",
    "Differentiate between API and Web API :\n",
    "1.APIs can be accessed in \n",
    "local library calls, operating system calls, or remote network calls.\n",
    "while Web APIs are accessed using HTTP protocols over the internet.\n",
    "2.APIs may use any communication protocol,\n",
    "Web APIs use HTTP, HTTPS, and REST protocol.\n",
    "3.APIs can be used for a variety of purposes,\n",
    " including accessing hardware, database management, or system integration.\n",
    "4. web api used for   applications to access and exchange data over the internet.\n"
   ]
  },
  {
   "cell_type": "markdown",
   "id": "07b93ff2-0802-4fae-8bfb-1d07542d7d3f",
   "metadata": {},
   "source": [
    "\n",
    "#4. Explain REST and SOAP Architecture. Mention shortcomings of SOAP.\n",
    "\n",
    "REST Architecture:\n",
    "REST is a simple and lightweight architecture that is based on HTTP (Hypertext Transfer Protocol). \n",
    "It uses a stateless client-server model, where the client sends requests to the server,\n",
    "and the server responds with the requested data.\n",
    "REST is resource-oriented, meaning that it uses resources (such as URLs) to identify and access data.\n",
    "It is typically used for web applications that require fast, lightweight communication and simple data structures.\n",
    "\n",
    "SOAP Architecture:\n",
    "SOAP is a more complex architecture that is based on XML (Extensible Markup Language).\n",
    "It uses a messaging model, where the client sends a request to the server, and the server responds with a SOAP message. \n",
    "SOAP is more feature-rich than REST, and it provides built-in support for security, transaction handling, and reliability. \n",
    "SOAP is typically used for applications that require complex business processes and transactions.\n",
    "\n",
    "Shortcomings of SOAP:\n",
    "    1.Complexity: its highly complex than REST .\n",
    "    2.Performance: its  slower than REST .\n",
    "    3.Scalability: its is less scalable than REST .\n",
    "    4.Compatibility:its not be compatible with all systems and platforms."
   ]
  },
  {
   "cell_type": "code",
   "execution_count": 1,
   "id": "790100bb-648b-429f-93c5-7c7703bdaa41",
   "metadata": {},
   "outputs": [],
   "source": [
    "#5 Differentiate between REST and SOAP."
   ]
  },
  {
   "cell_type": "code",
   "execution_count": null,
   "id": "4d00dc1b-6536-4b97-ad37-ea7492ed66fc",
   "metadata": {},
   "outputs": [],
   "source": [
    "1. REST (Representational State Transfer) is a simpler architectural style that is based on HTTP\n",
    "   SOAP (Simple Object Access Protocol) is a more complex architecture that uses XML.\n",
    "2. Rest focuses on resources   while soap  is based on a messaging mode.\n",
    "3. REST is typically faster and more efficient than SOAP.\n",
    "4. SOAP used for security purpose.\n",
    "5. Rest is scaleble and flexible.\n",
    "6. Rest is used for  heavy transcation while soap is used for low transaction."
   ]
  }
 ],
 "metadata": {
  "kernelspec": {
   "display_name": "Python 3 (ipykernel)",
   "language": "python",
   "name": "python3"
  },
  "language_info": {
   "codemirror_mode": {
    "name": "ipython",
    "version": 3
   },
   "file_extension": ".py",
   "mimetype": "text/x-python",
   "name": "python",
   "nbconvert_exporter": "python",
   "pygments_lexer": "ipython3",
   "version": "3.10.8"
  }
 },
 "nbformat": 4,
 "nbformat_minor": 5
}
