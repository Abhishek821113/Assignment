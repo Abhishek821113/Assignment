{
 "cells": [
  {
   "cell_type": "markdown",
   "id": "f6359a41-ccdd-48a4-97d2-c85b2cc6f6d7",
   "metadata": {},
   "source": [
    "Q1. What are the three measures of central tendency (CT)?"
   ]
  },
  {
   "cell_type": "markdown",
   "id": "f8c9eec7-e08d-49a1-bbc3-409eb596d3b5",
   "metadata": {},
   "source": [
    "The three measures of central Tendency are\n",
    "Mean\n",
    "Mode\n",
    "Median"
   ]
  },
  {
   "cell_type": "markdown",
   "id": "b0f0ce90-b78b-4e4a-b569-c4047546842e",
   "metadata": {},
   "source": [
    "Q2. What is the difference between the mean, median, and mode? How are they used to measure the\n",
    "central tendency of a dataset?\n",
    "The mean is used to find  the arithmetic average of a set of numbers.\n",
    "X={1,2,3,4,5,6,7,8}\n",
    "mean = [1+2+3+4+5+6+7+8]/8\n",
    " mean =5\n",
    "    mean provide the range of CT\n",
    "    The median is the middle value in a dataset when the values are arranged in order of magnitude. \n",
    "    If the dataset has an odd number of values, the median is the middle value. \n",
    "    If the dataset has an even number of values, the median is the average of the two middle values. \n",
    "    X=[4,5,6,3,2,5,2,6,1,3] first arrange them\n",
    "    X=[1,2,2,3,3,4,5,5,6,6], count the no of element\n",
    "    no element =10\n",
    "    even so take the middle term , take the average of them=(3+4)/2\n",
    "    medain =3.5\n",
    "    median is used to find the C T when outlier is present.\n",
    "    \n",
    "    \n",
    "    The mode is the value that appears most frequently in the dataset.\n",
    "    mode = [1,3,6,3,4,5,7,3,4,6,5,3,8,3]\n",
    "    mode =3\n",
    "    The mode is useful for describing categorical or nominal data"
   ]
  },
  {
   "cell_type": "markdown",
   "id": "4ad946d5-9017-45cb-af74-12b55d0108dd",
   "metadata": {},
   "source": [
    "Q3. Measure the three measures of central tendency for the given height data:\n",
    "\n",
    "  [178,177,176,177,178.2,178,175,179,180,175,178.9,176.2,177,172.5,178,176.5]\n"
   ]
  },
  {
   "cell_type": "code",
   "execution_count": 4,
   "id": "7ae99dd2-efa7-499c-83fd-91154c9f9405",
   "metadata": {},
   "outputs": [],
   "source": [
    "import numpy as np\n",
    "hight = [178,177,176,177,178.2,178,175,179,180,175,178.9,176.2,177,172.5,178,176.5]"
   ]
  },
  {
   "cell_type": "code",
   "execution_count": 5,
   "id": "a2651f6d-ea80-4268-8ad4-0359f3005f01",
   "metadata": {},
   "outputs": [
    {
     "data": {
      "text/plain": [
       "177.01875"
      ]
     },
     "execution_count": 5,
     "metadata": {},
     "output_type": "execute_result"
    }
   ],
   "source": [
    "np.mean(hight)"
   ]
  },
  {
   "cell_type": "code",
   "execution_count": 7,
   "id": "d98112e7-7213-40ab-a0e3-2861d0c3d410",
   "metadata": {},
   "outputs": [
    {
     "data": {
      "text/plain": [
       "177.0"
      ]
     },
     "execution_count": 7,
     "metadata": {},
     "output_type": "execute_result"
    }
   ],
   "source": [
    "np.median(hight)"
   ]
  },
  {
   "cell_type": "code",
   "execution_count": 9,
   "id": "be4e4f87-532e-4139-8f80-ffd2fee42686",
   "metadata": {},
   "outputs": [
    {
     "name": "stderr",
     "output_type": "stream",
     "text": [
      "/tmp/ipykernel_98/3888314649.py:2: FutureWarning: Unlike other reduction functions (e.g. `skew`, `kurtosis`), the default behavior of `mode` typically preserves the axis it acts along. In SciPy 1.11.0, this behavior will change: the default value of `keepdims` will become False, the `axis` over which the statistic is taken will be eliminated, and the value None will no longer be accepted. Set `keepdims` to True or False to avoid this warning.\n",
      "  stats.mode(hight)\n"
     ]
    },
    {
     "data": {
      "text/plain": [
       "ModeResult(mode=array([177.]), count=array([3]))"
      ]
     },
     "execution_count": 9,
     "metadata": {},
     "output_type": "execute_result"
    }
   ],
   "source": [
    "from scipy import stats\n",
    "stats.mode(hight)"
   ]
  },
  {
   "cell_type": "markdown",
   "id": "c263f227-87e4-4402-adf2-f840a7d077bd",
   "metadata": {},
   "source": [
    "Q4. Find the standard deviation for the given data:\n",
    "\n",
    "[178,177,176,177,178.2,178,175,179,180,175,178.9,176.2,177,172.5,178,176.5]"
   ]
  },
  {
   "cell_type": "code",
   "execution_count": 15,
   "id": "3d8663a8-eac0-4a60-9dcb-72d89b8988fd",
   "metadata": {},
   "outputs": [],
   "source": [
    "import numpy as np"
   ]
  },
  {
   "cell_type": "code",
   "execution_count": 16,
   "id": "f6c5cf8e-1316-4801-9790-32ec2ff81899",
   "metadata": {},
   "outputs": [],
   "source": [
    "hight =[178,177,176,177,178.2,178,175,179,180,175,178.9,176.2,177,172.5,178,176.5]"
   ]
  },
  {
   "cell_type": "code",
   "execution_count": 17,
   "id": "c5b1e1f9-ccef-4aa6-a796-400d7b709d7d",
   "metadata": {},
   "outputs": [
    {
     "data": {
      "text/plain": [
       "3.199023437500001"
      ]
     },
     "execution_count": 17,
     "metadata": {},
     "output_type": "execute_result"
    }
   ],
   "source": [
    "np.var(hight)"
   ]
  },
  {
   "cell_type": "code",
   "execution_count": 18,
   "id": "92bc68d4-8c30-4a1a-916a-75b2d71007a8",
   "metadata": {},
   "outputs": [
    {
     "data": {
      "text/plain": [
       "1.7885814036548633"
      ]
     },
     "execution_count": 18,
     "metadata": {},
     "output_type": "execute_result"
    }
   ],
   "source": [
    "np.std(hight)"
   ]
  },
  {
   "cell_type": "code",
   "execution_count": 36,
   "id": "7ea0440d-131e-4fe2-a554-b65a5c8759d0",
   "metadata": {},
   "outputs": [
    {
     "data": {
      "text/plain": [
       "<AxesSubplot: ylabel='Count'>"
      ]
     },
     "execution_count": 36,
     "metadata": {},
     "output_type": "execute_result"
    },
    {
     "data": {
      "image/png": "[encoded data removed]",
      "text/plain": [
       "<Figure size 640x480 with 1 Axes>"
      ]
     },
     "metadata": {},
     "output_type": "display_data"
    }
   ],
   "source": [
    "#5. How are measures of dispersion such as range, variance, and standard deviation used to describethe spread of a dataset? Provide an example.\n",
    "\n",
    "\n",
    "#The range is the difference between the maximum and minimum values in a dataset. \n",
    "#It is a simple measure of dispersion that provides an idea of how spread out the data is. \n",
    "#For example, if the range of a dataset of exam scores is 100, \n",
    "#it means that the highest score is 100 points .\n",
    "\n",
    "\n",
    "#The variance and standard deviation are more sophisticated measures of dispersion that take into account the deviation of each data point from the mean or average of the data.\n",
    "#The variance is calculated by taking the sum of the squared deviations of each data point from the mean and dividing it by the total number of data points. The standard deviation is simply the square root of the variance.\n",
    "#A higher standard deviation means that the data points are more spread out from the mean.\n",
    "\n",
    "\n",
    "hight =[178,177,176,177,178.2,178,175,179,180,175,178.9,176.2,177,172.5,178,176.5]\n",
    "\n",
    "import seaborn as sns\n",
    "sns.histplot(hight,kde=True)"
   ]
  },
  {
   "cell_type": "code",
   "execution_count": 23,
   "id": "52776f37-44a6-4757-af5d-b26acf8a73ef",
   "metadata": {},
   "outputs": [],
   "source": [
    "import pandas as pd"
   ]
  },
  {
   "cell_type": "code",
   "execution_count": 29,
   "id": "eeb1b5ac-2bfb-4265-b691-b7cd3072ab70",
   "metadata": {},
   "outputs": [],
   "source": [
    "data =[10,20,300],[40,150,60],[70,820,90]"
   ]
  },
  {
   "cell_type": "code",
   "execution_count": 30,
   "id": "c784de7f-0691-49dc-8111-286b63dcd317",
   "metadata": {},
   "outputs": [
    {
     "data": {
      "text/plain": [
       "([10, 20, 300], [40, 150, 60], [70, 820, 90])"
      ]
     },
     "execution_count": 30,
     "metadata": {},
     "output_type": "execute_result"
    }
   ],
   "source": [
    "data"
   ]
  },
  {
   "cell_type": "code",
   "execution_count": 31,
   "id": "1a5e5786-c69d-422b-87d0-1238243ce3b2",
   "metadata": {},
   "outputs": [],
   "source": [
    "df=pd.DataFrame(data,columns=['A','B','C'])"
   ]
  },
  {
   "cell_type": "code",
   "execution_count": 32,
   "id": "f14be507-61df-4110-a5ba-54bae4f5d494",
   "metadata": {},
   "outputs": [
    {
     "data": {
      "text/html": [
       "<div>\n",
       "<style scoped>\n",
       "    .dataframe tbody tr th:only-of-type {\n",
       "        vertical-align: middle;\n",
       "    }\n",
       "\n",
       "    .dataframe tbody tr th {\n",
       "        vertical-align: top;\n",
       "    }\n",
       "\n",
       "    .dataframe thead th {\n",
       "        text-align: right;\n",
       "    }\n",
       "</style>\n",
       "<table border=\"1\" class=\"dataframe\">\n",
       "  <thead>\n",
       "    <tr style=\"text-align: right;\">\n",
       "      <th></th>\n",
       "      <th>A</th>\n",
       "      <th>B</th>\n",
       "      <th>C</th>\n",
       "    </tr>\n",
       "  </thead>\n",
       "  <tbody>\n",
       "    <tr>\n",
       "      <th>0</th>\n",
       "      <td>10</td>\n",
       "      <td>20</td>\n",
       "      <td>300</td>\n",
       "    </tr>\n",
       "    <tr>\n",
       "      <th>1</th>\n",
       "      <td>40</td>\n",
       "      <td>150</td>\n",
       "      <td>60</td>\n",
       "    </tr>\n",
       "    <tr>\n",
       "      <th>2</th>\n",
       "      <td>70</td>\n",
       "      <td>820</td>\n",
       "      <td>90</td>\n",
       "    </tr>\n",
       "  </tbody>\n",
       "</table>\n",
       "</div>"
      ],
      "text/plain": [
       "    A    B    C\n",
       "0  10   20  300\n",
       "1  40  150   60\n",
       "2  70  820   90"
      ]
     },
     "execution_count": 32,
     "metadata": {},
     "output_type": "execute_result"
    }
   ],
   "source": [
    "df"
   ]
  },
  {
   "cell_type": "code",
   "execution_count": 33,
   "id": "024b5809-89a9-4e0c-a6e6-5d376d755629",
   "metadata": {},
   "outputs": [
    {
     "data": {
      "text/plain": [
       "A       900.0\n",
       "B    184300.0\n",
       "C     17100.0\n",
       "dtype: float64"
      ]
     },
     "execution_count": 33,
     "metadata": {},
     "output_type": "execute_result"
    }
   ],
   "source": [
    "df.var()"
   ]
  },
  {
   "cell_type": "code",
   "execution_count": 34,
   "id": "51923bc7-aeb5-451e-a8a3-b2bae9284c66",
   "metadata": {},
   "outputs": [
    {
     "data": {
      "text/plain": [
       "0     27100.000000\n",
       "1      3433.333333\n",
       "2    182633.333333\n",
       "dtype: float64"
      ]
     },
     "execution_count": 34,
     "metadata": {},
     "output_type": "execute_result"
    }
   ],
   "source": [
    "df.var(axis=1)"
   ]
  },
  {
   "cell_type": "markdown",
   "id": "eac2af55-49df-460d-9d8c-1fc72bb67acc",
   "metadata": {},
   "source": [
    "#6 What is a Venn diagram?\n",
    "\n",
    "\n",
    "#A Venn diagram is a type of diagram that illustrates the relationships between sets. \n",
    "#It consists of a series of overlapping circles, each representing a set. The circles are placed in such a way that their intersections represent the common elements between the sets. \n",
    "#The non-overlapping areas of the circles represent the elements that are unique to each set.\n",
    "\n",
    "\n",
    "\n",
    "\n"
   ]
  },
  {
   "cell_type": "markdown",
   "id": "805a1eed-5aa8-4bd8-805b-76624939eb59",
   "metadata": {},
   "source": [
    " #7For the two given sets A = (2,3,4,5,6,7) & B = (0,2,6,8,10). Find:\n",
    "\n",
    "#(i) \tA intersection B\n",
    "\n",
    "#(ii)\tA ⋃ B\n",
    " \n",
    "    i) A interstion B = (2,6)\n",
    "    ii)A ⋃ B =(0,2,3,4,5,6,7,10)"
   ]
  },
  {
   "cell_type": "markdown",
   "id": "be58082f-f56a-4b4f-ba3f-23e626b7d01b",
   "metadata": {},
   "source": [
    "Q8. What do you understand about skewness in data?\n",
    "\n",
    "Skewness is a measure of the asymmetry of a probability distribution or a dataset. It describes how lopsided or skewed the distribution is. A distribution can be either positively skewed (skewed to the right), negatively skewed (skewed to the left), or approximately symmetric.\n",
    "\n",
    "In a positively skewed distribution, the tail is longer on the right side, and most of the data is concentrated on the left side. In other words, mean > median > mode\n",
    "\n",
    "\n",
    "In a negatively skewed distribution, the tail is longer on the left side, and most of the data is concentrated on the right side. In other words, mean < median < mode\n",
    "\n",
    "\n",
    "\n",
    "\n",
    "\n"
   ]
  },
  {
   "cell_type": "markdown",
   "id": "d083c0d0-d082-4bda-a018-5feb41acef43",
   "metadata": {},
   "source": [
    "Q9. If a data is right skewed then what will be the position of median with respect to mean?\n",
    "\n",
    "median > mean "
   ]
  },
  {
   "cell_type": "markdown",
   "id": "2c86df7c-77d0-402f-af9f-1d5468309bda",
   "metadata": {},
   "source": [
    "Q10. Explain the difference between covariance and correlation. How are these measures used in statistical analysis?\n",
    "\n",
    "Covariance is a measure of the direction and strength of the linear relationship between two variables.\n",
    "x inc, y inc = + cov(x,y)\n",
    "x dec , y inc = -cov (x,y)\n",
    "\n",
    "covariance does not have specific  limt values\n",
    "\n",
    "\n",
    "correlation measures the strength and direction of the linear relationship between two variables, but it is standardized to take values between -1 and +1.\n",
    " the more  value towards +1  the more + ve correlation x,y\n",
    "  the more  value towards -1  the more - ve correlation x,y"
   ]
  },
  {
   "cell_type": "code",
   "execution_count": 50,
   "id": "37bdebfc-20c5-4813-ba95-b69f4c811007",
   "metadata": {},
   "outputs": [],
   "source": [
    "import seaborn as sns\n",
    "import pandas as pd\n",
    "df=sns.load_dataset('tips')"
   ]
  },
  {
   "cell_type": "code",
   "execution_count": 51,
   "id": "1dd7668d-5fec-4fb6-9651-a007c7ba5e12",
   "metadata": {},
   "outputs": [
    {
     "data": {
      "text/html": [
       "<div>\n",
       "<style scoped>\n",
       "    .dataframe tbody tr th:only-of-type {\n",
       "        vertical-align: middle;\n",
       "    }\n",
       "\n",
       "    .dataframe tbody tr th {\n",
       "        vertical-align: top;\n",
       "    }\n",
       "\n",
       "    .dataframe thead th {\n",
       "        text-align: right;\n",
       "    }\n",
       "</style>\n",
       "<table border=\"1\" class=\"dataframe\">\n",
       "  <thead>\n",
       "    <tr style=\"text-align: right;\">\n",
       "      <th></th>\n",
       "      <th>total_bill</th>\n",
       "      <th>tip</th>\n",
       "      <th>sex</th>\n",
       "      <th>smoker</th>\n",
       "      <th>day</th>\n",
       "      <th>time</th>\n",
       "      <th>size</th>\n",
       "    </tr>\n",
       "  </thead>\n",
       "  <tbody>\n",
       "    <tr>\n",
       "      <th>0</th>\n",
       "      <td>16.99</td>\n",
       "      <td>1.01</td>\n",
       "      <td>Female</td>\n",
       "      <td>No</td>\n",
       "      <td>Sun</td>\n",
       "      <td>Dinner</td>\n",
       "      <td>2</td>\n",
       "    </tr>\n",
       "    <tr>\n",
       "      <th>1</th>\n",
       "      <td>10.34</td>\n",
       "      <td>1.66</td>\n",
       "      <td>Male</td>\n",
       "      <td>No</td>\n",
       "      <td>Sun</td>\n",
       "      <td>Dinner</td>\n",
       "      <td>3</td>\n",
       "    </tr>\n",
       "    <tr>\n",
       "      <th>2</th>\n",
       "      <td>21.01</td>\n",
       "      <td>3.50</td>\n",
       "      <td>Male</td>\n",
       "      <td>No</td>\n",
       "      <td>Sun</td>\n",
       "      <td>Dinner</td>\n",
       "      <td>3</td>\n",
       "    </tr>\n",
       "    <tr>\n",
       "      <th>3</th>\n",
       "      <td>23.68</td>\n",
       "      <td>3.31</td>\n",
       "      <td>Male</td>\n",
       "      <td>No</td>\n",
       "      <td>Sun</td>\n",
       "      <td>Dinner</td>\n",
       "      <td>2</td>\n",
       "    </tr>\n",
       "    <tr>\n",
       "      <th>4</th>\n",
       "      <td>24.59</td>\n",
       "      <td>3.61</td>\n",
       "      <td>Female</td>\n",
       "      <td>No</td>\n",
       "      <td>Sun</td>\n",
       "      <td>Dinner</td>\n",
       "      <td>4</td>\n",
       "    </tr>\n",
       "    <tr>\n",
       "      <th>...</th>\n",
       "      <td>...</td>\n",
       "      <td>...</td>\n",
       "      <td>...</td>\n",
       "      <td>...</td>\n",
       "      <td>...</td>\n",
       "      <td>...</td>\n",
       "      <td>...</td>\n",
       "    </tr>\n",
       "    <tr>\n",
       "      <th>239</th>\n",
       "      <td>29.03</td>\n",
       "      <td>5.92</td>\n",
       "      <td>Male</td>\n",
       "      <td>No</td>\n",
       "      <td>Sat</td>\n",
       "      <td>Dinner</td>\n",
       "      <td>3</td>\n",
       "    </tr>\n",
       "    <tr>\n",
       "      <th>240</th>\n",
       "      <td>27.18</td>\n",
       "      <td>2.00</td>\n",
       "      <td>Female</td>\n",
       "      <td>Yes</td>\n",
       "      <td>Sat</td>\n",
       "      <td>Dinner</td>\n",
       "      <td>2</td>\n",
       "    </tr>\n",
       "    <tr>\n",
       "      <th>241</th>\n",
       "      <td>22.67</td>\n",
       "      <td>2.00</td>\n",
       "      <td>Male</td>\n",
       "      <td>Yes</td>\n",
       "      <td>Sat</td>\n",
       "      <td>Dinner</td>\n",
       "      <td>2</td>\n",
       "    </tr>\n",
       "    <tr>\n",
       "      <th>242</th>\n",
       "      <td>17.82</td>\n",
       "      <td>1.75</td>\n",
       "      <td>Male</td>\n",
       "      <td>No</td>\n",
       "      <td>Sat</td>\n",
       "      <td>Dinner</td>\n",
       "      <td>2</td>\n",
       "    </tr>\n",
       "    <tr>\n",
       "      <th>243</th>\n",
       "      <td>18.78</td>\n",
       "      <td>3.00</td>\n",
       "      <td>Female</td>\n",
       "      <td>No</td>\n",
       "      <td>Thur</td>\n",
       "      <td>Dinner</td>\n",
       "      <td>2</td>\n",
       "    </tr>\n",
       "  </tbody>\n",
       "</table>\n",
       "<p>244 rows × 7 columns</p>\n",
       "</div>"
      ],
      "text/plain": [
       "     total_bill   tip     sex smoker   day    time  size\n",
       "0         16.99  1.01  Female     No   Sun  Dinner     2\n",
       "1         10.34  1.66    Male     No   Sun  Dinner     3\n",
       "2         21.01  3.50    Male     No   Sun  Dinner     3\n",
       "3         23.68  3.31    Male     No   Sun  Dinner     2\n",
       "4         24.59  3.61  Female     No   Sun  Dinner     4\n",
       "..          ...   ...     ...    ...   ...     ...   ...\n",
       "239       29.03  5.92    Male     No   Sat  Dinner     3\n",
       "240       27.18  2.00  Female    Yes   Sat  Dinner     2\n",
       "241       22.67  2.00    Male    Yes   Sat  Dinner     2\n",
       "242       17.82  1.75    Male     No   Sat  Dinner     2\n",
       "243       18.78  3.00  Female     No  Thur  Dinner     2\n",
       "\n",
       "[244 rows x 7 columns]"
      ]
     },
     "execution_count": 51,
     "metadata": {},
     "output_type": "execute_result"
    }
   ],
   "source": [
    "df"
   ]
  },
  {
   "cell_type": "code",
   "execution_count": 53,
   "id": "f454fc11-7d60-48a6-917f-362f910ced82",
   "metadata": {},
   "outputs": [
    {
     "name": "stderr",
     "output_type": "stream",
     "text": [
      "/tmp/ipykernel_98/1545644723.py:1: FutureWarning: The default value of numeric_only in DataFrame.cov is deprecated. In a future version, it will default to False. Select only valid columns or specify the value of numeric_only to silence this warning.\n",
      "  df.cov()\n"
     ]
    },
    {
     "data": {
      "text/html": [
       "<div>\n",
       "<style scoped>\n",
       "    .dataframe tbody tr th:only-of-type {\n",
       "        vertical-align: middle;\n",
       "    }\n",
       "\n",
       "    .dataframe tbody tr th {\n",
       "        vertical-align: top;\n",
       "    }\n",
       "\n",
       "    .dataframe thead th {\n",
       "        text-align: right;\n",
       "    }\n",
       "</style>\n",
       "<table border=\"1\" class=\"dataframe\">\n",
       "  <thead>\n",
       "    <tr style=\"text-align: right;\">\n",
       "      <th></th>\n",
       "      <th>total_bill</th>\n",
       "      <th>tip</th>\n",
       "      <th>size</th>\n",
       "    </tr>\n",
       "  </thead>\n",
       "  <tbody>\n",
       "    <tr>\n",
       "      <th>total_bill</th>\n",
       "      <td>79.252939</td>\n",
       "      <td>8.323502</td>\n",
       "      <td>5.065983</td>\n",
       "    </tr>\n",
       "    <tr>\n",
       "      <th>tip</th>\n",
       "      <td>8.323502</td>\n",
       "      <td>1.914455</td>\n",
       "      <td>0.643906</td>\n",
       "    </tr>\n",
       "    <tr>\n",
       "      <th>size</th>\n",
       "      <td>5.065983</td>\n",
       "      <td>0.643906</td>\n",
       "      <td>0.904591</td>\n",
       "    </tr>\n",
       "  </tbody>\n",
       "</table>\n",
       "</div>"
      ],
      "text/plain": [
       "            total_bill       tip      size\n",
       "total_bill   79.252939  8.323502  5.065983\n",
       "tip           8.323502  1.914455  0.643906\n",
       "size          5.065983  0.643906  0.904591"
      ]
     },
     "execution_count": 53,
     "metadata": {},
     "output_type": "execute_result"
    }
   ],
   "source": [
    "df.cov()"
   ]
  },
  {
   "cell_type": "code",
   "execution_count": 54,
   "id": "5a98d966-a904-484b-abd6-78ae628c9fb2",
   "metadata": {},
   "outputs": [
    {
     "name": "stderr",
     "output_type": "stream",
     "text": [
      "/tmp/ipykernel_98/1134722465.py:1: FutureWarning: The default value of numeric_only in DataFrame.corr is deprecated. In a future version, it will default to False. Select only valid columns or specify the value of numeric_only to silence this warning.\n",
      "  df.corr()\n"
     ]
    },
    {
     "data": {
      "text/html": [
       "<div>\n",
       "<style scoped>\n",
       "    .dataframe tbody tr th:only-of-type {\n",
       "        vertical-align: middle;\n",
       "    }\n",
       "\n",
       "    .dataframe tbody tr th {\n",
       "        vertical-align: top;\n",
       "    }\n",
       "\n",
       "    .dataframe thead th {\n",
       "        text-align: right;\n",
       "    }\n",
       "</style>\n",
       "<table border=\"1\" class=\"dataframe\">\n",
       "  <thead>\n",
       "    <tr style=\"text-align: right;\">\n",
       "      <th></th>\n",
       "      <th>total_bill</th>\n",
       "      <th>tip</th>\n",
       "      <th>size</th>\n",
       "    </tr>\n",
       "  </thead>\n",
       "  <tbody>\n",
       "    <tr>\n",
       "      <th>total_bill</th>\n",
       "      <td>1.000000</td>\n",
       "      <td>0.675734</td>\n",
       "      <td>0.598315</td>\n",
       "    </tr>\n",
       "    <tr>\n",
       "      <th>tip</th>\n",
       "      <td>0.675734</td>\n",
       "      <td>1.000000</td>\n",
       "      <td>0.489299</td>\n",
       "    </tr>\n",
       "    <tr>\n",
       "      <th>size</th>\n",
       "      <td>0.598315</td>\n",
       "      <td>0.489299</td>\n",
       "      <td>1.000000</td>\n",
       "    </tr>\n",
       "  </tbody>\n",
       "</table>\n",
       "</div>"
      ],
      "text/plain": [
       "            total_bill       tip      size\n",
       "total_bill    1.000000  0.675734  0.598315\n",
       "tip           0.675734  1.000000  0.489299\n",
       "size          0.598315  0.489299  1.000000"
      ]
     },
     "execution_count": 54,
     "metadata": {},
     "output_type": "execute_result"
    }
   ],
   "source": [
    "df.corr()"
   ]
  },
  {
   "cell_type": "markdown",
   "id": "1807bf24-b339-4ec4-b996-84ae51e7d8ac",
   "metadata": {},
   "source": [
    "Q11. What is the formula for calculating the sample mean? Provide an example calculation for a dataset.\n",
    "\n",
    "The general formula for calculating the sample mean is given by x̄ = ( Σ xi ) / n. Here, x̄ represents the sample mean, xi refers all X sample values and n stands for the number of sample terms in the data set.\n",
    "\n",
    "X=[1,2,3,4,5,6]\n",
    "sample mean =1+2+3+4+5++6=21/6\n",
    "=3.5\n"
   ]
  },
  {
   "cell_type": "markdown",
   "id": "3e570ce8-4706-42c1-b7cf-998385de000f",
   "metadata": {},
   "source": [
    "12. For a normal distribution data what is the relationship between its measure of central tendency?\n",
    "in normal distribution all measure of central tendency are equal ,lie in one line.\n",
    "mean = mode = median"
   ]
  },
  {
   "cell_type": "markdown",
   "id": "664d9151-f8ba-4fbc-a0a2-a21d94fc9818",
   "metadata": {},
   "source": [
    " 13.How is covariance different from correlation?\n",
    " \n",
    " Covariance and correlation are two terms that are opposed and are both used in statistics and regression analysis. Covariance shows you how the two variables differ, whereas correlation shows you how the two variables are related."
   ]
  },
  {
   "cell_type": "markdown",
   "id": "1ceb534b-22ce-4aaa-ac82-48022561e31d",
   "metadata": {},
   "source": [
    "Q14. How do outliers affect measures of central tendency and dispersion? Provide an example\n",
    "it  has affect on median  and on standard division.\n",
    "X1=[1,2,3,4,100],\n",
    "mean= 110/5  , median=3.5\n",
    "       = 22\n",
    "X2[1,2,3,4,5],median= 3.5\n",
    "mean =15/5\n",
    "       =3"
   ]
  },
  {
   "cell_type": "code",
   "execution_count": 56,
   "id": "2b910ad0-6bb6-417f-9973-e71f98ba7852",
   "metadata": {},
   "outputs": [],
   "source": [
    "import numpy as np\n",
    "import pandas as pd\n",
    "X1=[1,2,3,4,100]\n",
    "X2 =[1,2,3,4,5]"
   ]
  },
  {
   "cell_type": "code",
   "execution_count": 59,
   "id": "48e2e49c-f112-445d-b094-756f9b0ea68f",
   "metadata": {},
   "outputs": [
    {
     "data": {
      "text/plain": [
       "22.0"
      ]
     },
     "execution_count": 59,
     "metadata": {},
     "output_type": "execute_result"
    }
   ],
   "source": [
    "np.mean(X1)"
   ]
  },
  {
   "cell_type": "code",
   "execution_count": 60,
   "id": "3c7fcce7-abfa-49e5-be09-13d567352b52",
   "metadata": {},
   "outputs": [
    {
     "data": {
      "text/plain": [
       "3.0"
      ]
     },
     "execution_count": 60,
     "metadata": {},
     "output_type": "execute_result"
    }
   ],
   "source": [
    "np.mean(X2)"
   ]
  },
  {
   "cell_type": "code",
   "execution_count": 61,
   "id": "ee5ec5cd-1258-486d-9aec-53faa0eeec07",
   "metadata": {},
   "outputs": [
    {
     "data": {
      "text/plain": [
       "39.01281840626232"
      ]
     },
     "execution_count": 61,
     "metadata": {},
     "output_type": "execute_result"
    }
   ],
   "source": [
    "np.std(X1)"
   ]
  },
  {
   "cell_type": "code",
   "execution_count": null,
   "id": "e762da9b-5b0f-4c1a-ab9d-fc283d6dd7bb",
   "metadata": {},
   "outputs": [],
   "source": []
  }
 ],
 "metadata": {
  "kernelspec": {
   "display_name": "Python 3 (ipykernel)",
   "language": "python",
   "name": "python3"
  },
  "language_info": {
   "codemirror_mode": {
    "name": "ipython",
    "version": 3
   },
   "file_extension": ".py",
   "mimetype": "text/x-python",
   "name": "python",
   "nbconvert_exporter": "python",
   "pygments_lexer": "ipython3",
   "version": "3.10.8"
  }
 },
 "nbformat": 4,
 "nbformat_minor": 5
}
