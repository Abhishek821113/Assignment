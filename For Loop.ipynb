{
 "cells": [
  {
   "cell_type": "code",
   "execution_count": 1,
   "id": "0a7c9d82-67fa-47ca-b1b8-186a2fe81a47",
   "metadata": {},
   "outputs": [],
   "source": [
    "l= [1,2,3, 'abhi',4, 'kumar',5]"
   ]
  },
  {
   "cell_type": "code",
   "execution_count": 3,
   "id": "524dce77-d805-4e06-a730-87f347a4966c",
   "metadata": {},
   "outputs": [
    {
     "name": "stdout",
     "output_type": "stream",
     "text": [
      "1\n",
      "2\n",
      "3\n",
      "abhi\n",
      "4\n",
      "kumar\n",
      "5\n"
     ]
    }
   ],
   "source": [
    "for i in l:\n",
    "    print(i)"
   ]
  },
  {
   "cell_type": "code",
   "execution_count": 10,
   "id": "85f3a37b-858b-422f-a65d-65e1dc33ffbf",
   "metadata": {},
   "outputs": [],
   "source": [
    "l1= ['abhi','avi','raj','rahul']"
   ]
  },
  {
   "cell_type": "code",
   "execution_count": 11,
   "id": "3003f6e6-f1c1-4da9-aa48-84d7ba20bd74",
   "metadata": {},
   "outputs": [
    {
     "name": "stdout",
     "output_type": "stream",
     "text": [
      "abhi,avi,raj,rahul\n",
      "if for loop is able to execute itself  than  only else will execute\n"
     ]
    }
   ],
   "source": [
    "for i in l1:\n",
    "    print(i)\n",
    "else:   \n",
    "    print (\"if for loop is able to execute itself  than  only else will execute\")"
   ]
  },
  {
   "cell_type": "code",
   "execution_count": 29,
   "id": "eff4a90f-781e-48c3-90bc-465742b834e6",
   "metadata": {},
   "outputs": [
    {
     "name": "stdout",
     "output_type": "stream",
     "text": [
      "abhi\n"
     ]
    }
   ],
   "source": [
    "for i in l1:\n",
    "    if i ==\"avi\":\n",
    "        break\n",
    "    print(i)\n",
    "else:   \n",
    "    print (\"if for loop is able to execute itself  than  only else will execute\")"
   ]
  },
  {
   "cell_type": "code",
   "execution_count": 30,
   "id": "59097bf0-9e88-4c74-ad3b-0a126283ba8f",
   "metadata": {},
   "outputs": [
    {
     "name": "stdout",
     "output_type": "stream",
     "text": [
      "abhi\n",
      "raj\n",
      "rahul\n",
      "if for loop is able to execute itself  than  only else will execute\n"
     ]
    }
   ],
   "source": [
    "for i in l1:\n",
    "    if i ==\"avi\":\n",
    "        continue\n",
    "    print(i)\n",
    "else:   \n",
    "    print (\"if for loop is able to execute itself  than  only else will execute\")"
   ]
  },
  {
   "cell_type": "code",
   "execution_count": 33,
   "id": "b475b231-fb41-4161-84e1-e2d7b7290048",
   "metadata": {},
   "outputs": [
    {
     "data": {
      "text/plain": [
       "[0, 1, 2, 3, 4]"
      ]
     },
     "execution_count": 33,
     "metadata": {},
     "output_type": "execute_result"
    }
   ],
   "source": [
    "list(range(5))"
   ]
  },
  {
   "cell_type": "code",
   "execution_count": 36,
   "id": "741229b6-f8c2-4990-bb79-a5550481c884",
   "metadata": {},
   "outputs": [
    {
     "data": {
      "text/plain": [
       "[0, 1, 2, 3, 4]"
      ]
     },
     "execution_count": 36,
     "metadata": {},
     "output_type": "execute_result"
    }
   ],
   "source": [
    "list(range(0,5,1))"
   ]
  },
  {
   "cell_type": "code",
   "execution_count": 3,
   "id": "3d0a777f-0cc0-4b1b-ba10-603e1365b30b",
   "metadata": {},
   "outputs": [
    {
     "data": {
      "text/plain": [
       "[0,\n",
       " 2,\n",
       " 4,\n",
       " 6,\n",
       " 8,\n",
       " 10,\n",
       " 12,\n",
       " 14,\n",
       " 16,\n",
       " 18,\n",
       " 20,\n",
       " 22,\n",
       " 24,\n",
       " 26,\n",
       " 28,\n",
       " 30,\n",
       " 32,\n",
       " 34,\n",
       " 36,\n",
       " 38,\n",
       " 40,\n",
       " 42,\n",
       " 44,\n",
       " 46,\n",
       " 48,\n",
       " 50,\n",
       " 52,\n",
       " 54,\n",
       " 56,\n",
       " 58,\n",
       " 60,\n",
       " 62,\n",
       " 64,\n",
       " 66,\n",
       " 68,\n",
       " 70,\n",
       " 72,\n",
       " 74,\n",
       " 76,\n",
       " 78,\n",
       " 80,\n",
       " 82,\n",
       " 84,\n",
       " 86,\n",
       " 88,\n",
       " 90,\n",
       " 92,\n",
       " 94,\n",
       " 96,\n",
       " 98]"
      ]
     },
     "execution_count": 3,
     "metadata": {},
     "output_type": "execute_result"
    }
   ],
   "source": [
    "list(range(0,100,2))"
   ]
  },
  {
   "cell_type": "code",
   "execution_count": 2,
   "id": "fe7bcc48-8e62-4be8-8ee9-fe41b6be2f16",
   "metadata": {},
   "outputs": [
    {
     "data": {
      "text/plain": [
       "[-1, -2, -3, -4, -5, -6, -7]"
      ]
     },
     "execution_count": 2,
     "metadata": {},
     "output_type": "execute_result"
    }
   ],
   "source": [
    "list(range(-1,-8,-1))"
   ]
  },
  {
   "cell_type": "code",
   "execution_count": 1,
   "id": "f2cf3e79-ff4c-48d4-90bd-18464e13a5c7",
   "metadata": {},
   "outputs": [
    {
     "data": {
      "text/plain": [
       "[-20,\n",
       " -19,\n",
       " -18,\n",
       " -17,\n",
       " -16,\n",
       " -15,\n",
       " -14,\n",
       " -13,\n",
       " -12,\n",
       " -11,\n",
       " -10,\n",
       " -9,\n",
       " -8,\n",
       " -7,\n",
       " -6,\n",
       " -5,\n",
       " -4,\n",
       " -3,\n",
       " -2,\n",
       " -1]"
      ]
     },
     "execution_count": 1,
     "metadata": {},
     "output_type": "execute_result"
    }
   ],
   "source": [
    "list(range(-20,0))"
   ]
  },
  {
   "cell_type": "code",
   "execution_count": 11,
   "id": "b1b21b1c-4d33-4a35-9977-ed40301b9646",
   "metadata": {},
   "outputs": [
    {
     "data": {
      "text/plain": [
       "[0, 1, 2, 3]"
      ]
     },
     "execution_count": 11,
     "metadata": {},
     "output_type": "execute_result"
    }
   ],
   "source": [
    "list(range(len(l1)))"
   ]
  },
  {
   "cell_type": "code",
   "execution_count": 15,
   "id": "22a41afc-1b01-4c23-a7ef-9c3ae63ec43b",
   "metadata": {},
   "outputs": [
    {
     "data": {
      "text/plain": [
       "[3, 7, 11, 15, 19]"
      ]
     },
     "execution_count": 15,
     "metadata": {},
     "output_type": "execute_result"
    }
   ],
   "source": [
    "list(range(len(l1)-1,20,4))"
   ]
  },
  {
   "cell_type": "code",
   "execution_count": 20,
   "id": "c6a01eef-b8fc-4bcc-9ea8-727ac7430a7d",
   "metadata": {},
   "outputs": [
    {
     "data": {
      "text/plain": [
       "[2, -2, -6, -10, -14, -18]"
      ]
     },
     "execution_count": 20,
     "metadata": {},
     "output_type": "execute_result"
    }
   ],
   "source": [
    "list(range(len(l1)-2,-20,-4))"
   ]
  },
  {
   "cell_type": "code",
   "execution_count": 23,
   "id": "b31eb181-3bd6-4b9f-a76b-2abdb6bf6b97",
   "metadata": {},
   "outputs": [
    {
     "name": "stdout",
     "output_type": "stream",
     "text": [
      "rahul\n",
      "raj\n",
      "avi\n",
      "abhi\n"
     ]
    }
   ],
   "source": [
    "for i in range(len(l1)-1,-1,-1):\n",
    "    print(l1[i])"
   ]
  },
  {
   "cell_type": "code",
   "execution_count": 24,
   "id": "1b9eee7e-b221-4564-be9e-c736d58a258b",
   "metadata": {},
   "outputs": [],
   "source": [
    "l2=[1,2,3,4,6,44,66,8,8,88,12,144]"
   ]
  },
  {
   "cell_type": "code",
   "execution_count": 29,
   "id": "f70b2be0-7df8-4d5e-be2c-b9a33ad5517a",
   "metadata": {},
   "outputs": [
    {
     "data": {
      "text/plain": [
       "[0, 2, 4, 6, 8, 10]"
      ]
     },
     "execution_count": 29,
     "metadata": {},
     "output_type": "execute_result"
    }
   ],
   "source": [
    "list(range(0, 12, 2))"
   ]
  },
  {
   "cell_type": "code",
   "execution_count": 30,
   "id": "5ef249f4-ca5d-4fab-b8eb-f83e7016bee7",
   "metadata": {},
   "outputs": [
    {
     "name": "stdout",
     "output_type": "stream",
     "text": [
      "1\n",
      "3\n",
      "6\n",
      "66\n",
      "8\n",
      "12\n"
     ]
    }
   ],
   "source": [
    "for i in (range(0, 12, 2)):\n",
    "    print(l2[i])"
   ]
  },
  {
   "cell_type": "code",
   "execution_count": 31,
   "id": "cada882e-7487-4202-b0c5-3d7bf87e4d91",
   "metadata": {},
   "outputs": [],
   "source": [
    "l = [1,2,3,4,5,6,85,69,75]"
   ]
  },
  {
   "cell_type": "code",
   "execution_count": 32,
   "id": "4ccd51e2-11a6-454e-a12e-035143448aba",
   "metadata": {},
   "outputs": [
    {
     "data": {
      "text/plain": [
       "250"
      ]
     },
     "execution_count": 32,
     "metadata": {},
     "output_type": "execute_result"
    }
   ],
   "source": [
    "sum(l)"
   ]
  },
  {
   "cell_type": "code",
   "execution_count": 38,
   "id": "f58e42d3-1249-4739-9ea9-a8568661e0d8",
   "metadata": {},
   "outputs": [
    {
     "data": {
      "text/plain": [
       "250"
      ]
     },
     "execution_count": 38,
     "metadata": {},
     "output_type": "execute_result"
    }
   ],
   "source": [
    "result=0\n",
    "for i in l:\n",
    "    result= result + i\n",
    "result\n"
   ]
  },
  {
   "cell_type": "code",
   "execution_count": 44,
   "id": "826bcd85-6e73-4951-b22b-1281f21256d1",
   "metadata": {},
   "outputs": [],
   "source": [
    "t= (1,2,3,4,5,6,889,4,5,675)"
   ]
  },
  {
   "cell_type": "code",
   "execution_count": 40,
   "id": "f0b022d1-44a0-4d32-829e-07bd6b1951e8",
   "metadata": {},
   "outputs": [
    {
     "name": "stdout",
     "output_type": "stream",
     "text": [
      "(1, 2, 3, 4, 5, 6, 889, 4, 5, 675)\n",
      "(1, 2, 3, 4, 5, 6, 889, 4, 5, 675)\n",
      "(1, 2, 3, 4, 5, 6, 889, 4, 5, 675)\n",
      "(1, 2, 3, 4, 5, 6, 889, 4, 5, 675)\n",
      "(1, 2, 3, 4, 5, 6, 889, 4, 5, 675)\n",
      "(1, 2, 3, 4, 5, 6, 889, 4, 5, 675)\n",
      "(1, 2, 3, 4, 5, 6, 889, 4, 5, 675)\n",
      "(1, 2, 3, 4, 5, 6, 889, 4, 5, 675)\n",
      "(1, 2, 3, 4, 5, 6, 889, 4, 5, 675)\n",
      "(1, 2, 3, 4, 5, 6, 889, 4, 5, 675)\n"
     ]
    }
   ],
   "source": [
    "for i in t:\n",
    "    print(t)"
   ]
  },
  {
   "cell_type": "code",
   "execution_count": 49,
   "id": "00fb434d-47c4-41db-b490-bcaf31889c8b",
   "metadata": {},
   "outputs": [
    {
     "data": {
      "text/plain": [
       "1594"
      ]
     },
     "execution_count": 49,
     "metadata": {},
     "output_type": "execute_result"
    }
   ],
   "source": [
    "result =0\n",
    "for i in t:\n",
    "    result = result + i\n",
    "result\n"
   ]
  },
  {
   "cell_type": "code",
   "execution_count": 50,
   "id": "5c2d8f07-bebc-4ef0-ba03-e8eac7622f30",
   "metadata": {},
   "outputs": [],
   "source": [
    "s={\"12,34,2,425,5,140, asd,asdfkm,drtg\"}"
   ]
  },
  {
   "cell_type": "code",
   "execution_count": 51,
   "id": "c988c4a0-b83e-4848-a1f3-c89d49f6c29c",
   "metadata": {},
   "outputs": [
    {
     "name": "stdout",
     "output_type": "stream",
     "text": [
      "12,34,2,425,5,140, asd,asdfkm,drtg\n"
     ]
    }
   ],
   "source": [
    "for i in s:\n",
    "    print(i)"
   ]
  },
  {
   "cell_type": "code",
   "execution_count": 52,
   "id": "bddf767e-05f7-4d25-bcdb-b98fb84c9450",
   "metadata": {},
   "outputs": [],
   "source": [
    "s1 = \"pwskills\""
   ]
  },
  {
   "cell_type": "code",
   "execution_count": 53,
   "id": "e84a6978-86a6-427d-b18b-469c8e2515a4",
   "metadata": {},
   "outputs": [
    {
     "name": "stdout",
     "output_type": "stream",
     "text": [
      "p\n",
      "w\n",
      "s\n",
      "k\n",
      "i\n",
      "l\n",
      "l\n",
      "s\n"
     ]
    }
   ],
   "source": [
    "for i in s1:\n",
    "    print(i)"
   ]
  },
  {
   "cell_type": "code",
   "execution_count": 55,
   "id": "5f8d6a80-b0a0-4a94-a852-2066cb6c41b8",
   "metadata": {},
   "outputs": [],
   "source": [
    "d= {\" name \": \"Abhishek\",\"class\": \"Data sci\",\n",
    "    \" topic \": [\"python\",\"ml\",\"statics\",\"nlp\",\"dp\",\"cv\",\"resume\",\"interview\"]}"
   ]
  },
  {
   "cell_type": "code",
   "execution_count": 56,
   "id": "2cf6912f-ec94-405a-939d-18ea6880ba1b",
   "metadata": {},
   "outputs": [
    {
     "data": {
      "text/plain": [
       "{' name ': 'Abhishek',\n",
       " 'class': 'Data sci',\n",
       " ' topic ': ['python',\n",
       "  'ml',\n",
       "  'statics',\n",
       "  'nlp',\n",
       "  'dp',\n",
       "  'cv',\n",
       "  'resume',\n",
       "  'interview']}"
      ]
     },
     "execution_count": 56,
     "metadata": {},
     "output_type": "execute_result"
    }
   ],
   "source": [
    "d"
   ]
  },
  {
   "cell_type": "code",
   "execution_count": 60,
   "id": "15c3fb7e-2bce-4ccc-947e-492f8b92d678",
   "metadata": {},
   "outputs": [
    {
     "data": {
      "text/plain": [
       "'Abhishek'"
      ]
     },
     "execution_count": 60,
     "metadata": {},
     "output_type": "execute_result"
    }
   ],
   "source": [
    "d[' name ']"
   ]
  },
  {
   "cell_type": "code",
   "execution_count": 61,
   "id": "1080f37a-57a1-4b8b-8c07-1e01be03a9fc",
   "metadata": {},
   "outputs": [
    {
     "data": {
      "text/plain": [
       "dict_keys([' name ', 'class', ' topic '])"
      ]
     },
     "execution_count": 61,
     "metadata": {},
     "output_type": "execute_result"
    }
   ],
   "source": [
    "d.keys()"
   ]
  },
  {
   "cell_type": "code",
   "execution_count": 62,
   "id": "0115362d-188c-42e2-a2c3-7feed27e07ed",
   "metadata": {},
   "outputs": [
    {
     "name": "stdout",
     "output_type": "stream",
     "text": [
      "Abhishek\n",
      "Data sci\n",
      "['python', 'ml', 'statics', 'nlp', 'dp', 'cv', 'resume', 'interview']\n"
     ]
    }
   ],
   "source": [
    "for i in d:\n",
    "    print(d[i])"
   ]
  },
  {
   "cell_type": "code",
   "execution_count": 63,
   "id": "49e1c9c4-6d03-471a-a7d0-056c0ec09c11",
   "metadata": {},
   "outputs": [
    {
     "name": "stdout",
     "output_type": "stream",
     "text": [
      "Abhishek\n",
      "Data sci\n",
      "['python', 'ml', 'statics', 'nlp', 'dp', 'cv', 'resume', 'interview']\n"
     ]
    }
   ],
   "source": [
    "for i in d.keys() :\n",
    "    print(d[i])"
   ]
  },
  {
   "cell_type": "code",
   "execution_count": 64,
   "id": "053c3a7b-225f-48b0-b6bd-e1dede8291d2",
   "metadata": {},
   "outputs": [
    {
     "data": {
      "text/plain": [
       "dict_items([(' name ', 'Abhishek'), ('class', 'Data sci'), (' topic ', ['python', 'ml', 'statics', 'nlp', 'dp', 'cv', 'resume', 'interview'])])"
      ]
     },
     "execution_count": 64,
     "metadata": {},
     "output_type": "execute_result"
    }
   ],
   "source": [
    "d.items()"
   ]
  },
  {
   "cell_type": "code",
   "execution_count": 68,
   "id": "6eaf6287-6632-40d8-a342-b3588485a8f0",
   "metadata": {},
   "outputs": [
    {
     "name": "stdout",
     "output_type": "stream",
     "text": [
      "(' name ', 'Abhishek')\n",
      "('class', 'Data sci')\n",
      "(' topic ', ['python', 'ml', 'statics', 'nlp', 'dp', 'cv', 'resume', 'interview'])\n"
     ]
    }
   ],
   "source": [
    "for i in d.items():\n",
    "    print(i)"
   ]
  },
  {
   "cell_type": "code",
   "execution_count": 70,
   "id": "76827bf9-90b9-4afd-8c60-0bd6162460fa",
   "metadata": {},
   "outputs": [
    {
     "data": {
      "text/plain": [
       "dict_values(['Abhishek', 'Data sci', ['python', 'ml', 'statics', 'nlp', 'dp', 'cv', 'resume', 'interview']])"
      ]
     },
     "execution_count": 70,
     "metadata": {},
     "output_type": "execute_result"
    }
   ],
   "source": [
    "d.values()"
   ]
  },
  {
   "cell_type": "code",
   "execution_count": null,
   "id": "3a91c25a-546a-4729-ade3-1082a688403c",
   "metadata": {},
   "outputs": [],
   "source": [
    "for i in d"
   ]
  }
 ],
 "metadata": {
  "kernelspec": {
   "display_name": "Python 3 (ipykernel)",
   "language": "python",
   "name": "python3"
  },
  "language_info": {
   "codemirror_mode": {
    "name": "ipython",
    "version": 3
   },
   "file_extension": ".py",
   "mimetype": "text/x-python",
   "name": "python",
   "nbconvert_exporter": "python",
   "pygments_lexer": "ipython3",
   "version": "3.10.8"
  }
 },
 "nbformat": 4,
 "nbformat_minor": 5
}
