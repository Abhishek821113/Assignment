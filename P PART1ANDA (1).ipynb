{
 "cells": [
  {
   "cell_type": "code",
   "execution_count": 1,
   "id": "f35e476c-0e10-4d5e-9c51-cf2cf2ff2696",
   "metadata": {},
   "outputs": [],
   "source": [
    "    import pandas as pd"
   ]
  },
  {
   "cell_type": "code",
   "execution_count": 2,
   "id": "297e349e-0414-45db-81ee-d61926d1f12f",
   "metadata": {},
   "outputs": [
    {
     "name": "stdout",
     "output_type": "stream",
     "text": [
      "Requirement already satisfied: pandas in /opt/conda/lib/python3.10/site-packages (1.5.2)\n",
      "Requirement already satisfied: python-dateutil>=2.8.1 in /opt/conda/lib/python3.10/site-packages (from pandas) (2.8.2)\n",
      "Requirement already satisfied: pytz>=2020.1 in /opt/conda/lib/python3.10/site-packages (from pandas) (2022.6)\n",
      "Requirement already satisfied: numpy>=1.21.0 in /opt/conda/lib/python3.10/site-packages (from pandas) (1.23.5)\n",
      "Requirement already satisfied: six>=1.5 in /opt/conda/lib/python3.10/site-packages (from python-dateutil>=2.8.1->pandas) (1.16.0)\n",
      "Note: you may need to restart the kernel to use updated packages.\n"
     ]
    }
   ],
   "source": [
    "pip install pandas"
   ]
  },
  {
   "cell_type": "code",
   "execution_count": 3,
   "id": "f5ebc025-401f-4d09-9d6f-f550befc2f46",
   "metadata": {},
   "outputs": [],
   "source": [
    "d= {\n",
    " \"name\" : ['abhi','avi','raj'], \n",
    " \"marks\" :[92,86,74],\n",
    " \"city\" :['sasaram','patna','ranchi']\n",
    "}\n"
   ]
  },
  {
   "cell_type": "code",
   "execution_count": 4,
   "id": "8b7fe323-608e-45e1-9622-c6f101eb1796",
   "metadata": {},
   "outputs": [],
   "source": [
    "df=pd.DataFrame(d)"
   ]
  },
  {
   "cell_type": "code",
   "execution_count": 5,
   "id": "5ddc91bd-9add-4d47-af87-529232ddc406",
   "metadata": {},
   "outputs": [
    {
     "data": {
      "text/html": [
       "<div>\n",
       "<style scoped>\n",
       "    .dataframe tbody tr th:only-of-type {\n",
       "        vertical-align: middle;\n",
       "    }\n",
       "\n",
       "    .dataframe tbody tr th {\n",
       "        vertical-align: top;\n",
       "    }\n",
       "\n",
       "    .dataframe thead th {\n",
       "        text-align: right;\n",
       "    }\n",
       "</style>\n",
       "<table border=\"1\" class=\"dataframe\">\n",
       "  <thead>\n",
       "    <tr style=\"text-align: right;\">\n",
       "      <th></th>\n",
       "      <th>name</th>\n",
       "      <th>marks</th>\n",
       "      <th>city</th>\n",
       "    </tr>\n",
       "  </thead>\n",
       "  <tbody>\n",
       "    <tr>\n",
       "      <th>0</th>\n",
       "      <td>abhi</td>\n",
       "      <td>92</td>\n",
       "      <td>sasaram</td>\n",
       "    </tr>\n",
       "    <tr>\n",
       "      <th>1</th>\n",
       "      <td>avi</td>\n",
       "      <td>86</td>\n",
       "      <td>patna</td>\n",
       "    </tr>\n",
       "    <tr>\n",
       "      <th>2</th>\n",
       "      <td>raj</td>\n",
       "      <td>74</td>\n",
       "      <td>ranchi</td>\n",
       "    </tr>\n",
       "  </tbody>\n",
       "</table>\n",
       "</div>"
      ],
      "text/plain": [
       "   name  marks     city\n",
       "0  abhi     92  sasaram\n",
       "1   avi     86    patna\n",
       "2   raj     74   ranchi"
      ]
     },
     "execution_count": 5,
     "metadata": {},
     "output_type": "execute_result"
    }
   ],
   "source": [
    "df"
   ]
  },
  {
   "cell_type": "code",
   "execution_count": 6,
   "id": "153561be-a507-45c3-8680-7faa2f3a4ad2",
   "metadata": {},
   "outputs": [],
   "source": [
    "df.to_csv(\"friend.csv\")"
   ]
  },
  {
   "cell_type": "code",
   "execution_count": 7,
   "id": "957065ac-c6f4-46d8-9c93-76c8583239af",
   "metadata": {},
   "outputs": [
    {
     "data": {
      "text/html": [
       "<div>\n",
       "<style scoped>\n",
       "    .dataframe tbody tr th:only-of-type {\n",
       "        vertical-align: middle;\n",
       "    }\n",
       "\n",
       "    .dataframe tbody tr th {\n",
       "        vertical-align: top;\n",
       "    }\n",
       "\n",
       "    .dataframe thead th {\n",
       "        text-align: right;\n",
       "    }\n",
       "</style>\n",
       "<table border=\"1\" class=\"dataframe\">\n",
       "  <thead>\n",
       "    <tr style=\"text-align: right;\">\n",
       "      <th></th>\n",
       "      <th>name</th>\n",
       "      <th>marks</th>\n",
       "      <th>city</th>\n",
       "    </tr>\n",
       "  </thead>\n",
       "  <tbody>\n",
       "    <tr>\n",
       "      <th>0</th>\n",
       "      <td>abhi</td>\n",
       "      <td>92</td>\n",
       "      <td>sasaram</td>\n",
       "    </tr>\n",
       "    <tr>\n",
       "      <th>1</th>\n",
       "      <td>avi</td>\n",
       "      <td>86</td>\n",
       "      <td>patna</td>\n",
       "    </tr>\n",
       "  </tbody>\n",
       "</table>\n",
       "</div>"
      ],
      "text/plain": [
       "   name  marks     city\n",
       "0  abhi     92  sasaram\n",
       "1   avi     86    patna"
      ]
     },
     "execution_count": 7,
     "metadata": {},
     "output_type": "execute_result"
    }
   ],
   "source": [
    "df.head(2)"
   ]
  },
  {
   "cell_type": "code",
   "execution_count": 8,
   "id": "be20c9e2-0f71-49c9-a527-d8655c9d69ac",
   "metadata": {},
   "outputs": [
    {
     "data": {
      "text/html": [
       "<div>\n",
       "<style scoped>\n",
       "    .dataframe tbody tr th:only-of-type {\n",
       "        vertical-align: middle;\n",
       "    }\n",
       "\n",
       "    .dataframe tbody tr th {\n",
       "        vertical-align: top;\n",
       "    }\n",
       "\n",
       "    .dataframe thead th {\n",
       "        text-align: right;\n",
       "    }\n",
       "</style>\n",
       "<table border=\"1\" class=\"dataframe\">\n",
       "  <thead>\n",
       "    <tr style=\"text-align: right;\">\n",
       "      <th></th>\n",
       "      <th>name</th>\n",
       "      <th>marks</th>\n",
       "      <th>city</th>\n",
       "    </tr>\n",
       "  </thead>\n",
       "  <tbody>\n",
       "    <tr>\n",
       "      <th>2</th>\n",
       "      <td>raj</td>\n",
       "      <td>74</td>\n",
       "      <td>ranchi</td>\n",
       "    </tr>\n",
       "  </tbody>\n",
       "</table>\n",
       "</div>"
      ],
      "text/plain": [
       "  name  marks    city\n",
       "2  raj     74  ranchi"
      ]
     },
     "execution_count": 8,
     "metadata": {},
     "output_type": "execute_result"
    }
   ],
   "source": [
    "df.tail(1)"
   ]
  },
  {
   "cell_type": "code",
   "execution_count": 9,
   "id": "ae2f50c7-922c-4bab-9e3a-c125203e8b8c",
   "metadata": {},
   "outputs": [
    {
     "data": {
      "text/html": [
       "<div>\n",
       "<style scoped>\n",
       "    .dataframe tbody tr th:only-of-type {\n",
       "        vertical-align: middle;\n",
       "    }\n",
       "\n",
       "    .dataframe tbody tr th {\n",
       "        vertical-align: top;\n",
       "    }\n",
       "\n",
       "    .dataframe thead th {\n",
       "        text-align: right;\n",
       "    }\n",
       "</style>\n",
       "<table border=\"1\" class=\"dataframe\">\n",
       "  <thead>\n",
       "    <tr style=\"text-align: right;\">\n",
       "      <th></th>\n",
       "      <th>marks</th>\n",
       "    </tr>\n",
       "  </thead>\n",
       "  <tbody>\n",
       "    <tr>\n",
       "      <th>count</th>\n",
       "      <td>3.000000</td>\n",
       "    </tr>\n",
       "    <tr>\n",
       "      <th>mean</th>\n",
       "      <td>84.000000</td>\n",
       "    </tr>\n",
       "    <tr>\n",
       "      <th>std</th>\n",
       "      <td>9.165151</td>\n",
       "    </tr>\n",
       "    <tr>\n",
       "      <th>min</th>\n",
       "      <td>74.000000</td>\n",
       "    </tr>\n",
       "    <tr>\n",
       "      <th>25%</th>\n",
       "      <td>80.000000</td>\n",
       "    </tr>\n",
       "    <tr>\n",
       "      <th>50%</th>\n",
       "      <td>86.000000</td>\n",
       "    </tr>\n",
       "    <tr>\n",
       "      <th>75%</th>\n",
       "      <td>89.000000</td>\n",
       "    </tr>\n",
       "    <tr>\n",
       "      <th>max</th>\n",
       "      <td>92.000000</td>\n",
       "    </tr>\n",
       "  </tbody>\n",
       "</table>\n",
       "</div>"
      ],
      "text/plain": [
       "           marks\n",
       "count   3.000000\n",
       "mean   84.000000\n",
       "std     9.165151\n",
       "min    74.000000\n",
       "25%    80.000000\n",
       "50%    86.000000\n",
       "75%    89.000000\n",
       "max    92.000000"
      ]
     },
     "execution_count": 9,
     "metadata": {},
     "output_type": "execute_result"
    }
   ],
   "source": [
    "df.describe()"
   ]
  },
  {
   "cell_type": "code",
   "execution_count": 10,
   "id": "40fab6b3-24b1-401f-a18e-1b30b7766f88",
   "metadata": {},
   "outputs": [
    {
     "data": {
      "text/plain": [
       "pandas.core.frame.DataFrame"
      ]
     },
     "execution_count": 10,
     "metadata": {},
     "output_type": "execute_result"
    }
   ],
   "source": [
    "type(df)"
   ]
  },
  {
   "cell_type": "code",
   "execution_count": 11,
   "id": "3caa89e4-6108-4cc1-a177-20db282d9c66",
   "metadata": {},
   "outputs": [
    {
     "data": {
      "text/plain": [
       "['name', 'marks', 'city']"
      ]
     },
     "execution_count": 11,
     "metadata": {},
     "output_type": "execute_result"
    }
   ],
   "source": [
    "list(df.columns)"
   ]
  },
  {
   "cell_type": "code",
   "execution_count": 12,
   "id": "2493041e-2965-44ac-81bb-5810d1dfe571",
   "metadata": {},
   "outputs": [
    {
     "data": {
      "text/plain": [
       "0    92\n",
       "1    86\n",
       "2    74\n",
       "Name: marks, dtype: int64"
      ]
     },
     "execution_count": 12,
     "metadata": {},
     "output_type": "execute_result"
    }
   ],
   "source": [
    "df['marks']"
   ]
  },
  {
   "cell_type": "code",
   "execution_count": 13,
   "id": "54b6e7fa-aa35-4016-9edb-aed3d4fe1601",
   "metadata": {},
   "outputs": [
    {
     "data": {
      "text/plain": [
       "pandas.core.series.Series"
      ]
     },
     "execution_count": 13,
     "metadata": {},
     "output_type": "execute_result"
    }
   ],
   "source": [
    "type(df['marks'])"
   ]
  },
  {
   "cell_type": "code",
   "execution_count": 14,
   "id": "d05043bd-0ef4-4957-a0f1-93d3430c39e5",
   "metadata": {},
   "outputs": [],
   "source": [
    "#Q1. Create a Pandas Series that contains the following data: 4, 8, 15, 16, 23, and 42. Then, print the series.\n"
   ]
  },
  {
   "cell_type": "code",
   "execution_count": 15,
   "id": "8bd1fd7e-8b0d-41a5-b16a-59f8b09f263f",
   "metadata": {},
   "outputs": [],
   "source": [
    "d1= {\n",
    "   \"name\" : ['abhi','avi','raj','rahul','ravi' ,'rohan'],\n",
    "   \"marks\" :[4,8,15,16,23,42],\n",
    "   \"city\" :['sasaram','patna','ranchi','delhi','bombay','pune']\n",
    "}\n",
    "\n",
    "    "
   ]
  },
  {
   "cell_type": "code",
   "execution_count": 16,
   "id": "bdb099d1-cce9-43a7-830a-936e29f74846",
   "metadata": {},
   "outputs": [],
   "source": [
    "df=pd.DataFrame(d1)"
   ]
  },
  {
   "cell_type": "code",
   "execution_count": 17,
   "id": "4efb837f-3494-45b1-8889-8072185fc2b8",
   "metadata": {},
   "outputs": [
    {
     "data": {
      "text/html": [
       "<div>\n",
       "<style scoped>\n",
       "    .dataframe tbody tr th:only-of-type {\n",
       "        vertical-align: middle;\n",
       "    }\n",
       "\n",
       "    .dataframe tbody tr th {\n",
       "        vertical-align: top;\n",
       "    }\n",
       "\n",
       "    .dataframe thead th {\n",
       "        text-align: right;\n",
       "    }\n",
       "</style>\n",
       "<table border=\"1\" class=\"dataframe\">\n",
       "  <thead>\n",
       "    <tr style=\"text-align: right;\">\n",
       "      <th></th>\n",
       "      <th>name</th>\n",
       "      <th>marks</th>\n",
       "      <th>city</th>\n",
       "    </tr>\n",
       "  </thead>\n",
       "  <tbody>\n",
       "    <tr>\n",
       "      <th>0</th>\n",
       "      <td>abhi</td>\n",
       "      <td>4</td>\n",
       "      <td>sasaram</td>\n",
       "    </tr>\n",
       "    <tr>\n",
       "      <th>1</th>\n",
       "      <td>avi</td>\n",
       "      <td>8</td>\n",
       "      <td>patna</td>\n",
       "    </tr>\n",
       "    <tr>\n",
       "      <th>2</th>\n",
       "      <td>raj</td>\n",
       "      <td>15</td>\n",
       "      <td>ranchi</td>\n",
       "    </tr>\n",
       "    <tr>\n",
       "      <th>3</th>\n",
       "      <td>rahul</td>\n",
       "      <td>16</td>\n",
       "      <td>delhi</td>\n",
       "    </tr>\n",
       "    <tr>\n",
       "      <th>4</th>\n",
       "      <td>ravi</td>\n",
       "      <td>23</td>\n",
       "      <td>bombay</td>\n",
       "    </tr>\n",
       "    <tr>\n",
       "      <th>5</th>\n",
       "      <td>rohan</td>\n",
       "      <td>42</td>\n",
       "      <td>pune</td>\n",
       "    </tr>\n",
       "  </tbody>\n",
       "</table>\n",
       "</div>"
      ],
      "text/plain": [
       "    name  marks     city\n",
       "0   abhi      4  sasaram\n",
       "1    avi      8    patna\n",
       "2    raj     15   ranchi\n",
       "3  rahul     16    delhi\n",
       "4   ravi     23   bombay\n",
       "5  rohan     42     pune"
      ]
     },
     "execution_count": 17,
     "metadata": {},
     "output_type": "execute_result"
    }
   ],
   "source": [
    "df"
   ]
  },
  {
   "cell_type": "code",
   "execution_count": 18,
   "id": "bb62184e-8fd7-4b61-be42-3387d95cb2ae",
   "metadata": {},
   "outputs": [
    {
     "data": {
      "text/plain": [
       "0     4\n",
       "1     8\n",
       "2    15\n",
       "3    16\n",
       "4    23\n",
       "5    42\n",
       "Name: marks, dtype: int64"
      ]
     },
     "execution_count": 18,
     "metadata": {},
     "output_type": "execute_result"
    }
   ],
   "source": [
    "df['marks']"
   ]
  },
  {
   "cell_type": "code",
   "execution_count": 19,
   "id": "dbef37e6-28cf-4be3-a023-eb0ccbdea90a",
   "metadata": {},
   "outputs": [
    {
     "data": {
      "text/plain": [
       "pandas.core.series.Series"
      ]
     },
     "execution_count": 19,
     "metadata": {},
     "output_type": "execute_result"
    }
   ],
   "source": [
    "type(df['marks'])"
   ]
  },
  {
   "cell_type": "code",
   "execution_count": 20,
   "id": "fd54b5a8-f387-42a7-8ce9-b1edac477c50",
   "metadata": {},
   "outputs": [],
   "source": [
    "#Q2. Create a variable of list type containing 10 elements in it, and apply pandas. Series function on the variable print it."
   ]
  },
  {
   "cell_type": "code",
   "execution_count": 21,
   "id": "f56f5d81-1166-4406-bbf6-84759c95c905",
   "metadata": {},
   "outputs": [],
   "source": [
    "d3= {\n",
    "   \"name\": ['abhi','avi','raj','rahul','ravi','rohit','virat','dhoni','rahul','pant'],\n",
    "   \"score\": [12,20,30,45,56,45,47,31,100,95],\n",
    "   \"state\": ['br','br','jh','up','wb','mh','dl','tl','dl','rj'],\n",
    "   \"phone no \":[7894561230,7418529630,8527419630,987654326,8456123785,6213456789,8797456124,7578945613,7894531648,8877994455],\n",
    "   \"email id\" :['abhi@gmail.com','abhi1@gmail.com','abhi2@gmail.com','abh3i@gmail.com','abhi4@gmail.com','abhi5@gmail.com','abhi6@gmail.com','abhi7@gmail.com','abhi8@gmail.com','abhi9@gmail.com'],\n",
    "   \"sport\":[ 'cr','ft','cr','ft','cr','ft','cr','ft','cr','ft',],\n",
    "   \"wage\":[100,450,536,5446,890,9000000,800000,7852366,796466,4567512],\n",
    "   \"age\":[25,26,27,28,29,38,35,36,28,26],\n",
    "   \"religon\":['hindu','hindu','hindu','hindu','hindu','hindu','hindu','hindu','hindu','hindu'],\n",
    "   \"gender\":['male','male','male','male','male','male','male','male','male','male'],\n",
    "    \n",
    "}\n"
   ]
  },
  {
   "cell_type": "code",
   "execution_count": 22,
   "id": "45f7e961-42c0-43af-962f-f0de281cba58",
   "metadata": {},
   "outputs": [],
   "source": [
    "df=pd.DataFrame(d3)"
   ]
  },
  {
   "cell_type": "code",
   "execution_count": 23,
   "id": "899de4ce-cfec-4a61-8059-f3f50c884204",
   "metadata": {},
   "outputs": [
    {
     "data": {
      "text/html": [
       "<div>\n",
       "<style scoped>\n",
       "    .dataframe tbody tr th:only-of-type {\n",
       "        vertical-align: middle;\n",
       "    }\n",
       "\n",
       "    .dataframe tbody tr th {\n",
       "        vertical-align: top;\n",
       "    }\n",
       "\n",
       "    .dataframe thead th {\n",
       "        text-align: right;\n",
       "    }\n",
       "</style>\n",
       "<table border=\"1\" class=\"dataframe\">\n",
       "  <thead>\n",
       "    <tr style=\"text-align: right;\">\n",
       "      <th></th>\n",
       "      <th>name</th>\n",
       "      <th>score</th>\n",
       "      <th>state</th>\n",
       "      <th>phone no</th>\n",
       "      <th>email id</th>\n",
       "      <th>sport</th>\n",
       "      <th>wage</th>\n",
       "      <th>age</th>\n",
       "      <th>religon</th>\n",
       "      <th>gender</th>\n",
       "    </tr>\n",
       "  </thead>\n",
       "  <tbody>\n",
       "    <tr>\n",
       "      <th>0</th>\n",
       "      <td>abhi</td>\n",
       "      <td>12</td>\n",
       "      <td>br</td>\n",
       "      <td>7894561230</td>\n",
       "      <td>abhi@gmail.com</td>\n",
       "      <td>cr</td>\n",
       "      <td>100</td>\n",
       "      <td>25</td>\n",
       "      <td>hindu</td>\n",
       "      <td>male</td>\n",
       "    </tr>\n",
       "    <tr>\n",
       "      <th>1</th>\n",
       "      <td>avi</td>\n",
       "      <td>20</td>\n",
       "      <td>br</td>\n",
       "      <td>7418529630</td>\n",
       "      <td>abhi1@gmail.com</td>\n",
       "      <td>ft</td>\n",
       "      <td>450</td>\n",
       "      <td>26</td>\n",
       "      <td>hindu</td>\n",
       "      <td>male</td>\n",
       "    </tr>\n",
       "    <tr>\n",
       "      <th>2</th>\n",
       "      <td>raj</td>\n",
       "      <td>30</td>\n",
       "      <td>jh</td>\n",
       "      <td>8527419630</td>\n",
       "      <td>abhi2@gmail.com</td>\n",
       "      <td>cr</td>\n",
       "      <td>536</td>\n",
       "      <td>27</td>\n",
       "      <td>hindu</td>\n",
       "      <td>male</td>\n",
       "    </tr>\n",
       "    <tr>\n",
       "      <th>3</th>\n",
       "      <td>rahul</td>\n",
       "      <td>45</td>\n",
       "      <td>up</td>\n",
       "      <td>987654326</td>\n",
       "      <td>abh3i@gmail.com</td>\n",
       "      <td>ft</td>\n",
       "      <td>5446</td>\n",
       "      <td>28</td>\n",
       "      <td>hindu</td>\n",
       "      <td>male</td>\n",
       "    </tr>\n",
       "    <tr>\n",
       "      <th>4</th>\n",
       "      <td>ravi</td>\n",
       "      <td>56</td>\n",
       "      <td>wb</td>\n",
       "      <td>8456123785</td>\n",
       "      <td>abhi4@gmail.com</td>\n",
       "      <td>cr</td>\n",
       "      <td>890</td>\n",
       "      <td>29</td>\n",
       "      <td>hindu</td>\n",
       "      <td>male</td>\n",
       "    </tr>\n",
       "    <tr>\n",
       "      <th>5</th>\n",
       "      <td>rohit</td>\n",
       "      <td>45</td>\n",
       "      <td>mh</td>\n",
       "      <td>6213456789</td>\n",
       "      <td>abhi5@gmail.com</td>\n",
       "      <td>ft</td>\n",
       "      <td>9000000</td>\n",
       "      <td>38</td>\n",
       "      <td>hindu</td>\n",
       "      <td>male</td>\n",
       "    </tr>\n",
       "    <tr>\n",
       "      <th>6</th>\n",
       "      <td>virat</td>\n",
       "      <td>47</td>\n",
       "      <td>dl</td>\n",
       "      <td>8797456124</td>\n",
       "      <td>abhi6@gmail.com</td>\n",
       "      <td>cr</td>\n",
       "      <td>800000</td>\n",
       "      <td>35</td>\n",
       "      <td>hindu</td>\n",
       "      <td>male</td>\n",
       "    </tr>\n",
       "    <tr>\n",
       "      <th>7</th>\n",
       "      <td>dhoni</td>\n",
       "      <td>31</td>\n",
       "      <td>tl</td>\n",
       "      <td>7578945613</td>\n",
       "      <td>abhi7@gmail.com</td>\n",
       "      <td>ft</td>\n",
       "      <td>7852366</td>\n",
       "      <td>36</td>\n",
       "      <td>hindu</td>\n",
       "      <td>male</td>\n",
       "    </tr>\n",
       "    <tr>\n",
       "      <th>8</th>\n",
       "      <td>rahul</td>\n",
       "      <td>100</td>\n",
       "      <td>dl</td>\n",
       "      <td>7894531648</td>\n",
       "      <td>abhi8@gmail.com</td>\n",
       "      <td>cr</td>\n",
       "      <td>796466</td>\n",
       "      <td>28</td>\n",
       "      <td>hindu</td>\n",
       "      <td>male</td>\n",
       "    </tr>\n",
       "    <tr>\n",
       "      <th>9</th>\n",
       "      <td>pant</td>\n",
       "      <td>95</td>\n",
       "      <td>rj</td>\n",
       "      <td>8877994455</td>\n",
       "      <td>abhi9@gmail.com</td>\n",
       "      <td>ft</td>\n",
       "      <td>4567512</td>\n",
       "      <td>26</td>\n",
       "      <td>hindu</td>\n",
       "      <td>male</td>\n",
       "    </tr>\n",
       "  </tbody>\n",
       "</table>\n",
       "</div>"
      ],
      "text/plain": [
       "    name  score state   phone no          email id sport     wage  age  \\\n",
       "0   abhi     12    br  7894561230   abhi@gmail.com    cr      100   25   \n",
       "1    avi     20    br  7418529630  abhi1@gmail.com    ft      450   26   \n",
       "2    raj     30    jh  8527419630  abhi2@gmail.com    cr      536   27   \n",
       "3  rahul     45    up   987654326  abh3i@gmail.com    ft     5446   28   \n",
       "4   ravi     56    wb  8456123785  abhi4@gmail.com    cr      890   29   \n",
       "5  rohit     45    mh  6213456789  abhi5@gmail.com    ft  9000000   38   \n",
       "6  virat     47    dl  8797456124  abhi6@gmail.com    cr   800000   35   \n",
       "7  dhoni     31    tl  7578945613  abhi7@gmail.com    ft  7852366   36   \n",
       "8  rahul    100    dl  7894531648  abhi8@gmail.com    cr   796466   28   \n",
       "9   pant     95    rj  8877994455  abhi9@gmail.com    ft  4567512   26   \n",
       "\n",
       "  religon gender  \n",
       "0   hindu   male  \n",
       "1   hindu   male  \n",
       "2   hindu   male  \n",
       "3   hindu   male  \n",
       "4   hindu   male  \n",
       "5   hindu   male  \n",
       "6   hindu   male  \n",
       "7   hindu   male  \n",
       "8   hindu   male  \n",
       "9   hindu   male  "
      ]
     },
     "execution_count": 23,
     "metadata": {},
     "output_type": "execute_result"
    }
   ],
   "source": [
    "df"
   ]
  },
  {
   "cell_type": "code",
   "execution_count": 24,
   "id": "c5601532-e143-4e2e-8896-74f2678cf169",
   "metadata": {},
   "outputs": [],
   "source": [
    "#Q3. Create a Pandas DataFrame that contains the following data:\n",
    "\n"
   ]
  },
  {
   "cell_type": "code",
   "execution_count": 25,
   "id": "0b31bbb4-fdb8-42c6-9a7a-1c041a4a7705",
   "metadata": {},
   "outputs": [],
   "source": [
    "d4= {\n",
    "   \"name\": ['Alice','Bob','Claire'],\n",
    "     \"age\":[25,30,27],\n",
    "    \"gender\":['female','male','female'],\n",
    "    \n",
    "}\n",
    "\n",
    "    "
   ]
  },
  {
   "cell_type": "code",
   "execution_count": 26,
   "id": "05ee5637-cd16-43dd-aff9-549b7d6e5642",
   "metadata": {},
   "outputs": [],
   "source": [
    "df=pd.DataFrame(d4)"
   ]
  },
  {
   "cell_type": "code",
   "execution_count": 27,
   "id": "b3deb2c6-f455-43a3-9eb2-e5c3cbc5a3b8",
   "metadata": {},
   "outputs": [
    {
     "data": {
      "text/html": [
       "<div>\n",
       "<style scoped>\n",
       "    .dataframe tbody tr th:only-of-type {\n",
       "        vertical-align: middle;\n",
       "    }\n",
       "\n",
       "    .dataframe tbody tr th {\n",
       "        vertical-align: top;\n",
       "    }\n",
       "\n",
       "    .dataframe thead th {\n",
       "        text-align: right;\n",
       "    }\n",
       "</style>\n",
       "<table border=\"1\" class=\"dataframe\">\n",
       "  <thead>\n",
       "    <tr style=\"text-align: right;\">\n",
       "      <th></th>\n",
       "      <th>name</th>\n",
       "      <th>age</th>\n",
       "      <th>gender</th>\n",
       "    </tr>\n",
       "  </thead>\n",
       "  <tbody>\n",
       "    <tr>\n",
       "      <th>0</th>\n",
       "      <td>Alice</td>\n",
       "      <td>25</td>\n",
       "      <td>female</td>\n",
       "    </tr>\n",
       "    <tr>\n",
       "      <th>1</th>\n",
       "      <td>Bob</td>\n",
       "      <td>30</td>\n",
       "      <td>male</td>\n",
       "    </tr>\n",
       "    <tr>\n",
       "      <th>2</th>\n",
       "      <td>Claire</td>\n",
       "      <td>27</td>\n",
       "      <td>female</td>\n",
       "    </tr>\n",
       "  </tbody>\n",
       "</table>\n",
       "</div>"
      ],
      "text/plain": [
       "     name  age  gender\n",
       "0   Alice   25  female\n",
       "1     Bob   30    male\n",
       "2  Claire   27  female"
      ]
     },
     "execution_count": 27,
     "metadata": {},
     "output_type": "execute_result"
    }
   ],
   "source": [
    "df"
   ]
  },
  {
   "cell_type": "code",
   "execution_count": 28,
   "id": "fb47b29a-1dc7-4742-9dd8-df4ce6234f8e",
   "metadata": {},
   "outputs": [],
   "source": [
    "#Q4. What is ‘DataFrame’ in pandas and how is it different from pandas.series? Explain with an example.\n"
   ]
  },
  {
   "cell_type": "code",
   "execution_count": 29,
   "id": "b71f88c3-5861-44ac-b52b-f8b1bd9fcaf7",
   "metadata": {},
   "outputs": [],
   "source": [
    "#A DataFrame in pandas is a 2-dimensional labeled data structure with columns of potentially different types. It is similar to a spreadsheet or SQL table. It can be thought of as a collection of Series objects that share the same index.\n",
    "\n",
    "#On the other hand, a pandas Series is a one-dimensional labeled array capable of holding any data type (integers, strings, floating-point numbers, Python objects, etc.). The axis labels are collectively referred to as the index. A Series can be seen as a column in a DataFrame.\n",
    "\n",
    "#Here's an example\n",
    "\n",
    "# creating a dictionary to form a dataframe\n",
    "data = {\n",
    "    'Name': ['Abhi', 'avi', 'rahul', 'raj'],\n",
    "    'Age': [25, 30, 35, 40],\n",
    "    'Salary': [50000, 60000, 70000, 80000]\n",
    "       }\n",
    "df=pd.DataFrame(data)\n",
    "#We then create a  We can see that the DataFrame has three columns and four rows, while the Series has only one column and four rows.\n",
    "\n",
    "\n",
    "\n",
    "\n"
   ]
  },
  {
   "cell_type": "code",
   "execution_count": 30,
   "id": "7a2fb548-4e90-4a27-bcbc-af798363379f",
   "metadata": {},
   "outputs": [
    {
     "data": {
      "text/html": [
       "<div>\n",
       "<style scoped>\n",
       "    .dataframe tbody tr th:only-of-type {\n",
       "        vertical-align: middle;\n",
       "    }\n",
       "\n",
       "    .dataframe tbody tr th {\n",
       "        vertical-align: top;\n",
       "    }\n",
       "\n",
       "    .dataframe thead th {\n",
       "        text-align: right;\n",
       "    }\n",
       "</style>\n",
       "<table border=\"1\" class=\"dataframe\">\n",
       "  <thead>\n",
       "    <tr style=\"text-align: right;\">\n",
       "      <th></th>\n",
       "      <th>Name</th>\n",
       "      <th>Age</th>\n",
       "      <th>Salary</th>\n",
       "    </tr>\n",
       "  </thead>\n",
       "  <tbody>\n",
       "    <tr>\n",
       "      <th>0</th>\n",
       "      <td>Abhi</td>\n",
       "      <td>25</td>\n",
       "      <td>50000</td>\n",
       "    </tr>\n",
       "    <tr>\n",
       "      <th>1</th>\n",
       "      <td>avi</td>\n",
       "      <td>30</td>\n",
       "      <td>60000</td>\n",
       "    </tr>\n",
       "    <tr>\n",
       "      <th>2</th>\n",
       "      <td>rahul</td>\n",
       "      <td>35</td>\n",
       "      <td>70000</td>\n",
       "    </tr>\n",
       "    <tr>\n",
       "      <th>3</th>\n",
       "      <td>raj</td>\n",
       "      <td>40</td>\n",
       "      <td>80000</td>\n",
       "    </tr>\n",
       "  </tbody>\n",
       "</table>\n",
       "</div>"
      ],
      "text/plain": [
       "    Name  Age  Salary\n",
       "0   Abhi   25   50000\n",
       "1    avi   30   60000\n",
       "2  rahul   35   70000\n",
       "3    raj   40   80000"
      ]
     },
     "execution_count": 30,
     "metadata": {},
     "output_type": "execute_result"
    }
   ],
   "source": [
    "df"
   ]
  },
  {
   "cell_type": "code",
   "execution_count": 31,
   "id": "3b54ac8c-1e23-4e0a-8950-3db7e9b953a5",
   "metadata": {},
   "outputs": [
    {
     "data": {
      "text/plain": [
       "pandas.core.frame.DataFrame"
      ]
     },
     "execution_count": 31,
     "metadata": {},
     "output_type": "execute_result"
    }
   ],
   "source": [
    "type(df)"
   ]
  },
  {
   "cell_type": "code",
   "execution_count": 32,
   "id": "a17cb664-81d5-4c5f-8e57-328ce43c8be6",
   "metadata": {},
   "outputs": [
    {
     "data": {
      "text/plain": [
       "pandas.core.series.Series"
      ]
     },
     "execution_count": 32,
     "metadata": {},
     "output_type": "execute_result"
    }
   ],
   "source": [
    "type(df['Name'])"
   ]
  },
  {
   "cell_type": "code",
   "execution_count": 33,
   "id": "343e3b0b-338f-4e8f-8029-145e8adcf012",
   "metadata": {},
   "outputs": [],
   "source": [
    "#Q5. What are some common functions you can use to manipulate data in a Pandas DataFrame? Can you give an example of when you might use one of these functions?"
   ]
  },
  {
   "cell_type": "code",
   "execution_count": 34,
   "id": "75bc42cf-8c9b-478b-8a65-28e00c3296dd",
   "metadata": {},
   "outputs": [
    {
     "data": {
      "text/html": [
       "<div>\n",
       "<style scoped>\n",
       "    .dataframe tbody tr th:only-of-type {\n",
       "        vertical-align: middle;\n",
       "    }\n",
       "\n",
       "    .dataframe tbody tr th {\n",
       "        vertical-align: top;\n",
       "    }\n",
       "\n",
       "    .dataframe thead th {\n",
       "        text-align: right;\n",
       "    }\n",
       "</style>\n",
       "<table border=\"1\" class=\"dataframe\">\n",
       "  <thead>\n",
       "    <tr style=\"text-align: right;\">\n",
       "      <th></th>\n",
       "      <th>Name</th>\n",
       "      <th>Age</th>\n",
       "      <th>Salary</th>\n",
       "    </tr>\n",
       "  </thead>\n",
       "  <tbody>\n",
       "    <tr>\n",
       "      <th>0</th>\n",
       "      <td>Abhi</td>\n",
       "      <td>25</td>\n",
       "      <td>50000</td>\n",
       "    </tr>\n",
       "    <tr>\n",
       "      <th>1</th>\n",
       "      <td>avi</td>\n",
       "      <td>30</td>\n",
       "      <td>60000</td>\n",
       "    </tr>\n",
       "    <tr>\n",
       "      <th>2</th>\n",
       "      <td>rahul</td>\n",
       "      <td>35</td>\n",
       "      <td>70000</td>\n",
       "    </tr>\n",
       "    <tr>\n",
       "      <th>3</th>\n",
       "      <td>raj</td>\n",
       "      <td>40</td>\n",
       "      <td>80000</td>\n",
       "    </tr>\n",
       "  </tbody>\n",
       "</table>\n",
       "</div>"
      ],
      "text/plain": [
       "    Name  Age  Salary\n",
       "0   Abhi   25   50000\n",
       "1    avi   30   60000\n",
       "2  rahul   35   70000\n",
       "3    raj   40   80000"
      ]
     },
     "execution_count": 34,
     "metadata": {},
     "output_type": "execute_result"
    }
   ],
   "source": [
    "#Pandas provides a wide range of functions for manipulating data in a DataFrame. Here are some common functions:\n",
    "\n",
    "#head() and tail(): These functions are used to view the first or last few rows of the DataFrame. For example, df.head() will display the first 5 rows of the DataFrame df.\n",
    "\n",
    "#describe(): This function provides a statistical summary of the DataFrame, including count, mean, standard deviation, minimum, and maximum values, as well as quartiles. For example, df.describe() will display the statistical summary of the DataFrame df.\n",
    "\n",
    "#sort_values(): This function is used to sort the DataFrame by one or more columns. For example, df.sort_values('score') will sort the DataFrame df by the 'score' column in ascending order.\n",
    "\n",
    "#These are just a few examples of the many functions available in Pandas for manipulating data in a DataFrame.\n",
    "df\n",
    "\n",
    "\n",
    "\n",
    "\n"
   ]
  },
  {
   "cell_type": "code",
   "execution_count": 35,
   "id": "c3287b71-c263-43bf-bbdf-908c3597e02c",
   "metadata": {},
   "outputs": [
    {
     "data": {
      "text/html": [
       "<div>\n",
       "<style scoped>\n",
       "    .dataframe tbody tr th:only-of-type {\n",
       "        vertical-align: middle;\n",
       "    }\n",
       "\n",
       "    .dataframe tbody tr th {\n",
       "        vertical-align: top;\n",
       "    }\n",
       "\n",
       "    .dataframe thead th {\n",
       "        text-align: right;\n",
       "    }\n",
       "</style>\n",
       "<table border=\"1\" class=\"dataframe\">\n",
       "  <thead>\n",
       "    <tr style=\"text-align: right;\">\n",
       "      <th></th>\n",
       "      <th>Name</th>\n",
       "      <th>Age</th>\n",
       "      <th>Salary</th>\n",
       "    </tr>\n",
       "  </thead>\n",
       "  <tbody>\n",
       "    <tr>\n",
       "      <th>0</th>\n",
       "      <td>Abhi</td>\n",
       "      <td>25</td>\n",
       "      <td>50000</td>\n",
       "    </tr>\n",
       "    <tr>\n",
       "      <th>1</th>\n",
       "      <td>avi</td>\n",
       "      <td>30</td>\n",
       "      <td>60000</td>\n",
       "    </tr>\n",
       "    <tr>\n",
       "      <th>2</th>\n",
       "      <td>rahul</td>\n",
       "      <td>35</td>\n",
       "      <td>70000</td>\n",
       "    </tr>\n",
       "    <tr>\n",
       "      <th>3</th>\n",
       "      <td>raj</td>\n",
       "      <td>40</td>\n",
       "      <td>80000</td>\n",
       "    </tr>\n",
       "  </tbody>\n",
       "</table>\n",
       "</div>"
      ],
      "text/plain": [
       "    Name  Age  Salary\n",
       "0   Abhi   25   50000\n",
       "1    avi   30   60000\n",
       "2  rahul   35   70000\n",
       "3    raj   40   80000"
      ]
     },
     "execution_count": 35,
     "metadata": {},
     "output_type": "execute_result"
    }
   ],
   "source": [
    "df.head()"
   ]
  },
  {
   "cell_type": "code",
   "execution_count": 36,
   "id": "389dfb27-327a-46dd-bc66-10a2c22443c3",
   "metadata": {},
   "outputs": [
    {
     "data": {
      "text/html": [
       "<div>\n",
       "<style scoped>\n",
       "    .dataframe tbody tr th:only-of-type {\n",
       "        vertical-align: middle;\n",
       "    }\n",
       "\n",
       "    .dataframe tbody tr th {\n",
       "        vertical-align: top;\n",
       "    }\n",
       "\n",
       "    .dataframe thead th {\n",
       "        text-align: right;\n",
       "    }\n",
       "</style>\n",
       "<table border=\"1\" class=\"dataframe\">\n",
       "  <thead>\n",
       "    <tr style=\"text-align: right;\">\n",
       "      <th></th>\n",
       "      <th>Name</th>\n",
       "      <th>Age</th>\n",
       "      <th>Salary</th>\n",
       "    </tr>\n",
       "  </thead>\n",
       "  <tbody>\n",
       "    <tr>\n",
       "      <th>2</th>\n",
       "      <td>rahul</td>\n",
       "      <td>35</td>\n",
       "      <td>70000</td>\n",
       "    </tr>\n",
       "    <tr>\n",
       "      <th>3</th>\n",
       "      <td>raj</td>\n",
       "      <td>40</td>\n",
       "      <td>80000</td>\n",
       "    </tr>\n",
       "  </tbody>\n",
       "</table>\n",
       "</div>"
      ],
      "text/plain": [
       "    Name  Age  Salary\n",
       "2  rahul   35   70000\n",
       "3    raj   40   80000"
      ]
     },
     "execution_count": 36,
     "metadata": {},
     "output_type": "execute_result"
    }
   ],
   "source": [
    "df.tail(2)"
   ]
  },
  {
   "cell_type": "code",
   "execution_count": 37,
   "id": "b2ce26fb-939d-4114-ac8d-d24e6fb59db7",
   "metadata": {},
   "outputs": [
    {
     "data": {
      "text/html": [
       "<div>\n",
       "<style scoped>\n",
       "    .dataframe tbody tr th:only-of-type {\n",
       "        vertical-align: middle;\n",
       "    }\n",
       "\n",
       "    .dataframe tbody tr th {\n",
       "        vertical-align: top;\n",
       "    }\n",
       "\n",
       "    .dataframe thead th {\n",
       "        text-align: right;\n",
       "    }\n",
       "</style>\n",
       "<table border=\"1\" class=\"dataframe\">\n",
       "  <thead>\n",
       "    <tr style=\"text-align: right;\">\n",
       "      <th></th>\n",
       "      <th>Age</th>\n",
       "      <th>Salary</th>\n",
       "    </tr>\n",
       "  </thead>\n",
       "  <tbody>\n",
       "    <tr>\n",
       "      <th>count</th>\n",
       "      <td>4.000000</td>\n",
       "      <td>4.000000</td>\n",
       "    </tr>\n",
       "    <tr>\n",
       "      <th>mean</th>\n",
       "      <td>32.500000</td>\n",
       "      <td>65000.000000</td>\n",
       "    </tr>\n",
       "    <tr>\n",
       "      <th>std</th>\n",
       "      <td>6.454972</td>\n",
       "      <td>12909.944487</td>\n",
       "    </tr>\n",
       "    <tr>\n",
       "      <th>min</th>\n",
       "      <td>25.000000</td>\n",
       "      <td>50000.000000</td>\n",
       "    </tr>\n",
       "    <tr>\n",
       "      <th>25%</th>\n",
       "      <td>28.750000</td>\n",
       "      <td>57500.000000</td>\n",
       "    </tr>\n",
       "    <tr>\n",
       "      <th>50%</th>\n",
       "      <td>32.500000</td>\n",
       "      <td>65000.000000</td>\n",
       "    </tr>\n",
       "    <tr>\n",
       "      <th>75%</th>\n",
       "      <td>36.250000</td>\n",
       "      <td>72500.000000</td>\n",
       "    </tr>\n",
       "    <tr>\n",
       "      <th>max</th>\n",
       "      <td>40.000000</td>\n",
       "      <td>80000.000000</td>\n",
       "    </tr>\n",
       "  </tbody>\n",
       "</table>\n",
       "</div>"
      ],
      "text/plain": [
       "             Age        Salary\n",
       "count   4.000000      4.000000\n",
       "mean   32.500000  65000.000000\n",
       "std     6.454972  12909.944487\n",
       "min    25.000000  50000.000000\n",
       "25%    28.750000  57500.000000\n",
       "50%    32.500000  65000.000000\n",
       "75%    36.250000  72500.000000\n",
       "max    40.000000  80000.000000"
      ]
     },
     "execution_count": 37,
     "metadata": {},
     "output_type": "execute_result"
    }
   ],
   "source": [
    "df.describe()"
   ]
  },
  {
   "cell_type": "code",
   "execution_count": 38,
   "id": "605fe9e7-8a57-48fe-8bf5-570cd3dff9b1",
   "metadata": {},
   "outputs": [],
   "source": [
    "#Q6. Which of the following is mutable in nature Series, DataFrame, Panel?\n",
    "\n",
    "\n",
    "#Of the three data structures, both DataFrame and Panel are mutable in nature, while Series is immutable.\n",
    "#Once created, the values in a Series cannot be changed. In contrast, both DataFrame and Panel can be modified, for example, by adding, deleting or modifying rows or columns.\n"
   ]
  },
  {
   "cell_type": "code",
   "execution_count": 39,
   "id": "18a0f5a2-0b8f-4a42-877f-bb235babc80f",
   "metadata": {},
   "outputs": [],
   "source": [
    "#Q7. Create a DataFrame using multiple Series. Explain with an example."
   ]
  },
  {
   "cell_type": "code",
   "execution_count": 50,
   "id": "0e61ebd8-be1a-416e-a915-32562de8293d",
   "metadata": {},
   "outputs": [],
   "source": [
    "\n",
    "    # Define the first series\n",
    "name = pd.Series(['Abhi', 'harsh', 'jayesh', 'kausal', 'krishna'])\n",
    "    # Define the second series\n",
    "age = pd.Series([25, 18, 7, 19, 38])\n",
    "    # Define the third series\n",
    "city = pd.Series(['Nasik', 'Shmila', 'Locknow', 'Calcatta', 'Bombay'])\n",
    "\n",
    "    # Combine the series into a DataFrame\n",
    "df = pd.DataFrame({'Name': name, 'Age': age, 'City': city})\n",
    "\n",
    "\n",
    "\n",
    "    \n"
   ]
  },
  {
   "cell_type": "code",
   "execution_count": 51,
   "id": "fb5ebf6e-47f5-46cf-b1b9-27a15f629119",
   "metadata": {},
   "outputs": [
    {
     "data": {
      "text/html": [
       "<div>\n",
       "<style scoped>\n",
       "    .dataframe tbody tr th:only-of-type {\n",
       "        vertical-align: middle;\n",
       "    }\n",
       "\n",
       "    .dataframe tbody tr th {\n",
       "        vertical-align: top;\n",
       "    }\n",
       "\n",
       "    .dataframe thead th {\n",
       "        text-align: right;\n",
       "    }\n",
       "</style>\n",
       "<table border=\"1\" class=\"dataframe\">\n",
       "  <thead>\n",
       "    <tr style=\"text-align: right;\">\n",
       "      <th></th>\n",
       "      <th>Name</th>\n",
       "      <th>Age</th>\n",
       "      <th>City</th>\n",
       "    </tr>\n",
       "  </thead>\n",
       "  <tbody>\n",
       "    <tr>\n",
       "      <th>0</th>\n",
       "      <td>Abhi</td>\n",
       "      <td>25</td>\n",
       "      <td>Nasik</td>\n",
       "    </tr>\n",
       "    <tr>\n",
       "      <th>1</th>\n",
       "      <td>harsh</td>\n",
       "      <td>18</td>\n",
       "      <td>Shmila</td>\n",
       "    </tr>\n",
       "    <tr>\n",
       "      <th>2</th>\n",
       "      <td>jayesh</td>\n",
       "      <td>7</td>\n",
       "      <td>Locknow</td>\n",
       "    </tr>\n",
       "    <tr>\n",
       "      <th>3</th>\n",
       "      <td>kausal</td>\n",
       "      <td>19</td>\n",
       "      <td>Calcatta</td>\n",
       "    </tr>\n",
       "    <tr>\n",
       "      <th>4</th>\n",
       "      <td>krishna</td>\n",
       "      <td>38</td>\n",
       "      <td>Bombay</td>\n",
       "    </tr>\n",
       "  </tbody>\n",
       "</table>\n",
       "</div>"
      ],
      "text/plain": [
       "      Name  Age      City\n",
       "0     Abhi   25     Nasik\n",
       "1    harsh   18    Shmila\n",
       "2   jayesh    7   Locknow\n",
       "3   kausal   19  Calcatta\n",
       "4  krishna   38    Bombay"
      ]
     },
     "execution_count": 51,
     "metadata": {},
     "output_type": "execute_result"
    }
   ],
   "source": [
    "df"
   ]
  },
  {
   "cell_type": "code",
   "execution_count": null,
   "id": "3e8d224e-f3d1-4232-bb2c-ccfb0ec5ae0c",
   "metadata": {},
   "outputs": [],
   "source": []
  },
  {
   "cell_type": "code",
   "execution_count": null,
   "id": "66e39bfb-9ead-40e5-a617-8b3efcf926db",
   "metadata": {},
   "outputs": [],
   "source": []
  }
 ],
 "metadata": {
  "kernelspec": {
   "display_name": "Python 3 (ipykernel)",
   "language": "python",
   "name": "python3"
  },
  "language_info": {
   "codemirror_mode": {
    "name": "ipython",
    "version": 3
   },
   "file_extension": ".py",
   "mimetype": "text/x-python",
   "name": "python",
   "nbconvert_exporter": "python",
   "pygments_lexer": "ipython3",
   "version": "3.10.8"
  }
 },
 "nbformat": 4,
 "nbformat_minor": 5
}
